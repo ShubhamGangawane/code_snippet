{
 "cells": [
  {
   "cell_type": "markdown",
   "metadata": {},
   "source": [
    "# Programs on loops"
   ]
  },
  {
   "cell_type": "code",
   "execution_count": 1,
   "metadata": {},
   "outputs": [
    {
     "name": "stdout",
     "output_type": "stream",
     "text": [
      "Enter a number for factorial: 5\n",
      "The factorail is 120\n"
     ]
    }
   ],
   "source": [
    "#Program for factorial.\n",
    "n = int(input(\"Enter a number for factorial: \"))\n",
    "fact = 1\n",
    "for i in range(1,n+1):\n",
    "    fact= fact * i\n",
    "print(f\"The factorail is {fact}\")\n"
   ]
  },
  {
   "cell_type": "code",
   "execution_count": 2,
   "metadata": {},
   "outputs": [
    {
     "name": "stdout",
     "output_type": "stream",
     "text": [
      "Enter 10 number with space: 1 2 3 4 5 6 7 8 9 10\n",
      "The sum of given numbers is 55\n"
     ]
    }
   ],
   "source": [
    "#Prgram for sum of 10 number of user input through list\n",
    "list1 = list(map(int,input(\"Enter 10 number with space: \").strip().split()))\n",
    "total = 0\n",
    "for l in list1:\n",
    "    total+=l\n",
    "print(f\"The sum of given numbers is {total}\")\n"
   ]
  },
  {
   "cell_type": "code",
   "execution_count": 3,
   "metadata": {},
   "outputs": [
    {
     "name": "stdout",
     "output_type": "stream",
     "text": [
      "Enter a number: 20\n",
      "The sum of first 20 numbers is 210\n"
     ]
    }
   ],
   "source": [
    "#Program for sum of n natural numbers through user input\n",
    "number =int(input(\"Enter a number: \"))\n",
    "total = 0\n",
    "for i in range(number +1):\n",
    "    total+=i\n",
    "print(f\"The sum of first {number} numbers is {total}\")\n"
   ]
  },
  {
   "cell_type": "code",
   "execution_count": 4,
   "metadata": {},
   "outputs": [
    {
     "name": "stdout",
     "output_type": "stream",
     "text": [
      "[0, 2, 4, 6, 8, 10, 12, 14, 16, 18, 20, 22, 24, 26, 28, 30, 32, 34, 36, 38, 40, 42, 44, 46, 48, 50, 52, 54, 56, 58, 60, 62, 64, 66, 68, 70, 72, 74, 76, 78, 80, 82, 84, 86, 88, 90, 92, 94, 96, 98, 100]\n",
      "the total sum is 2550\n"
     ]
    }
   ],
   "source": [
    "#Program for adding all the even number from 1 to 100\n",
    "even = list(range(0,101,2))\n",
    "print(even)\n",
    "\n",
    "total = 0\n",
    "for e in range(len(even)):\n",
    "    total+=even[e]\n",
    "print('the total sum is' , total)\n"
   ]
  },
  {
   "cell_type": "code",
   "execution_count": 5,
   "metadata": {},
   "outputs": [
    {
     "name": "stdout",
     "output_type": "stream",
     "text": [
      "[1, 3, 5, 7, 9, 11, 13, 15, 17, 19, 21, 23, 25, 27, 29, 31, 33, 35, 37, 39, 41, 43, 45, 47, 49, 51, 53, 55, 57, 59, 61, 63, 65, 67, 69, 71, 73, 75, 77, 79, 81, 83, 85, 87, 89, 91, 93, 95, 97, 99]\n",
      "the total sum is 2500\n"
     ]
    }
   ],
   "source": [
    "#Program for adding all the odd number from 1 to 100\n",
    "odd = list(range(1,101,2))\n",
    "print(odd)\n",
    "\n",
    "total = 0\n",
    "for o in range(len(odd)):\n",
    "    total+=odd[o]\n",
    "print('the total sum is' , total)\n"
   ]
  },
  {
   "cell_type": "code",
   "execution_count": 6,
   "metadata": {},
   "outputs": [
    {
     "name": "stdout",
     "output_type": "stream",
     "text": [
      "Enter the length of the list: 5\n",
      "Enter list item number 1: \n",
      "2\n",
      "Enter list item number 2: \n",
      "4\n",
      "Enter list item number 3: \n",
      "6\n",
      "Enter list item number 4: \n",
      "8\n",
      "Enter list item number 5: \n",
      "10\n",
      "[2, 4, 6, 8, 10]\n",
      "The sum of all the items in list is  30\n"
     ]
    }
   ],
   "source": [
    "#Program for adding elemts in list through user input.\n",
    "list1 = []\n",
    "length = int(input(\"Enter the length of the list: \"))\n",
    "index =1\n",
    "total = 0\n",
    "\n",
    "for i in range(length):\n",
    "    print(\"Enter list item number \" + str(index) + \": \")\n",
    "    data = int(input())\n",
    "    list1.append(data)\n",
    "    index+=1\n",
    "print(list1)\n",
    "\n",
    "for i in range(len(list1)):\n",
    "    total += list1[i]\n",
    "print(\"The sum of all the items in list is \",total)\n"
   ]
  },
  {
   "cell_type": "code",
   "execution_count": 7,
   "metadata": {},
   "outputs": [
    {
     "name": "stdout",
     "output_type": "stream",
     "text": [
      "Enter a number: 2\n",
      "Enter a number: 1\n",
      "Enter a number: 3\n",
      "Enter a number: 4\n",
      "Enter a number: 6\n",
      "Enter a number: 5\n",
      "Enter a number: 7\n",
      "Enter a number: 8\n",
      "Enter a number: 9\n",
      "Enter a number: 10\n",
      "55\n"
     ]
    }
   ],
   "source": [
    "#Sum of 10 numbers from users\n",
    "list1 = []\n",
    "for i in range(10):\n",
    "    data = int(input(\"Enter a number: \"))\n",
    "    list1.append(data)\n",
    "    \n",
    "total=0\n",
    "\n",
    "for i in range(len(list1)):\n",
    "    total+=list1[i]\n",
    "print(total)\n"
   ]
  },
  {
   "cell_type": "code",
   "execution_count": 8,
   "metadata": {},
   "outputs": [
    {
     "name": "stdout",
     "output_type": "stream",
     "text": [
      "The index number is 0 in friends list , is of Mithilesh\n",
      "The index number is 1 in friends list , is of Deepak\n",
      "The index number is 2 in friends list , is of Sneha\n",
      "The index number is 3 in friends list , is of Pooja\n",
      "The index number is 4 in friends list , is of Ashish\n",
      "The index number is 5 in friends list , is of Abhishek\n",
      "The index number is 6 in friends list , is of kishor\n",
      "The index number is 7 in friends list , is of RohitM\n",
      "The index number is 8 in friends list , is of RohitP\n",
      "The index number is 9 in friends list , is of Ganesh\n",
      "The index number is 10 in friends list , is of Jyoti\n",
      "The index number is 11 in friends list , is of Pradhnya\n",
      "The index number is 12 in friends list , is of Neeraj\n",
      "The index number is 13 in friends list , is of Afreen\n",
      "The index number is 14 in friends list , is of Nikita\n"
     ]
    }
   ],
   "source": [
    "#Creating a friends list and printing the data inside the list with its index number.\n",
    "list1=[\"Mithilesh\",\"Deepak\",\"Sneha\",\"Pooja\",\n",
    "       \"Ashish\",\"Abhishek\",\"kishor\", \"RohitM\",\n",
    "       \"RohitP\",\"Ganesh\",\"Jyoti\",\"Pradhnya\",\n",
    "       \"Neeraj\",\"Afreen\",\"Nikita\"]\n",
    "\n",
    "for i in range(len(list1)):\n",
    "    print(\"The index number is \" + str(i) + \" in friends list , is of \" + list1[i])\n"
   ]
  },
  {
   "cell_type": "code",
   "execution_count": 9,
   "metadata": {},
   "outputs": [
    {
     "name": "stdout",
     "output_type": "stream",
     "text": [
      "The index number is 0 in database is of Username: Mithilesh with Password: 1233\n",
      "The index number is 1 in database is of Username: Deepak with Password: 2345\n",
      "The index number is 2 in database is of Username: Sneha with Password: 3456\n",
      "The index number is 3 in database is of Username: Pooja with Password: 4567\n",
      "The index number is 4 in database is of Username: Ashish with Password: 5678\n",
      "The index number is 5 in database is of Username: Abhishek with Password: 6789\n",
      "The index number is 6 in database is of Username: kishor with Password: 7890\n",
      "The index number is 7 in database is of Username: RohitM with Password: 8901\n",
      "The index number is 8 in database is of Username: RohitP with Password: 8901\n",
      "The index number is 9 in database is of Username: Ganesh with Password: 9012\n",
      "The index number is 10 in database is of Username: Jyoti with Password: 9112\n",
      "The index number is 11 in database is of Username: Pradhnya with Password: 1123\n",
      "The index number is 12 in database is of Username: Neraj with Password: 3012\n",
      "The index number is 13 in database is of Username: Afreen with Password: 3201\n",
      "The index number is 14 in database is of Username: Nikita with Password: 5487\n"
     ]
    }
   ],
   "source": [
    "#Creating a list named database and adding multiple nested list in database which contains username and password or your friends\n",
    "\n",
    "database =[[\"Mithilesh\",1233],[\"Deepak\",2345],\n",
    "           [\"Sneha\",3456],[\"Pooja\",4567], \n",
    "           [\"Ashish\",5678],[\"Abhishek\",6789],\n",
    "           [\"kishor\",7890],[\"RohitM\",8901],\n",
    "           [\"RohitP\",8901],[\"Ganesh\",9012],\n",
    "           [\"Jyoti\",9112],[\"Pradhnya\",1123],\n",
    "           [\"Neraj\",3012],[\"Afreen\",3201],\n",
    "           [\"Nikita\",5487]]\n",
    "\n",
    "for i in range(len(database)):\n",
    "    print(\"The index number is \" + str(i) + \" in database is of Username: \" + database[i][0] + \" with Password: \" + str(database[i][1]))\n"
   ]
  },
  {
   "cell_type": "code",
   "execution_count": 10,
   "metadata": {},
   "outputs": [
    {
     "name": "stdout",
     "output_type": "stream",
     "text": [
      "At index  0  in database, the username is  Mithilesh  and the password is  1233\n",
      "At index  1  in database, the username is  Deepak  and the password is  2345\n",
      "At index  2  in database, the username is  Sneha  and the password is  3456\n",
      "At index  3  in database, the username is  Pooja  and the password is  4567\n",
      "At index  4  in database, the username is  Ashish  and the password is  5678\n",
      "At index  5  in database, the username is  Abhishek  and the password is  6789\n",
      "At index  6  in database, the username is  kishor  and the password is  7890\n",
      "At index  7  in database, the username is  RohitM  and the password is  8901\n",
      "At index  8  in database, the username is  RohitP  and the password is  8901\n",
      "At index  9  in database, the username is  Ganesh  and the password is  9012\n",
      "At index  10  in database, the username is  Jyoti  and the password is  9112\n",
      "At index  11  in database, the username is  Pradhnya  and the password is  1123\n",
      "At index  12  in database, the username is  Neraj  and the password is  3012\n",
      "At index  13  in database, the username is  Afreen  and the password is  3201\n",
      "At index  14  in database, the username is  Nikita  and the password is  5487\n"
     ]
    }
   ],
   "source": [
    "#Creating a list named database and adding multiple nested list in database which contains username and password or your friends\n",
    "\n",
    "database =[[\"Mithilesh\",1233],[\"Deepak\",2345],\n",
    "           [\"Sneha\",3456],[\"Pooja\",4567], \n",
    "           [\"Ashish\",5678],[\"Abhishek\",6789],\n",
    "           [\"kishor\",7890],[\"RohitM\",8901],\n",
    "           [\"RohitP\",8901],[\"Ganesh\",9012],\n",
    "           [\"Jyoti\",9112],[\"Pradhnya\",1123],\n",
    "           [\"Neraj\",3012],[\"Afreen\",3201],\n",
    "           [\"Nikita\",5487]]\n",
    "\n",
    "index = 0\n",
    "for u,p in database:\n",
    "    print(\"At index \" ,index,\" in database, the username is \",u,\" and the password is \", p )\n",
    "    index+=1\n"
   ]
  },
  {
   "cell_type": "code",
   "execution_count": 11,
   "metadata": {},
   "outputs": [
    {
     "name": "stdout",
     "output_type": "stream",
     "text": [
      "User Name: mickey\n",
      "Password: 1111\n",
      "Username & Password does not matched \n",
      "\n",
      "Please try again\n",
      "\n",
      "\n",
      "User Name: deepak\n",
      "Password: 9999\n",
      "Username & Password does not matched \n",
      "\n",
      "Please try again\n",
      "\n",
      "\n",
      "User Name: mickey\n",
      "Password: 99\n",
      "Username & Password does not matched \n",
      "\n",
      "You already took 3 atempts .Please try after 3 hours\n",
      "\n",
      "\n"
     ]
    }
   ],
   "source": [
    "#Program for verifing username password in database:\n",
    "\n",
    "database = [['deepak', '1111'], ['sneha', '2222'], ['rohit', '3333'], ['pooja', '5555'],\n",
    " ['ragini', '6666'], ['kishor', '0007'], ['teacher', '8888'], ['mickey', '9999']]\n",
    "\n",
    "for i in range(3):\n",
    "    username = input('User Name: ')\n",
    "    pin = input('Password: ')\n",
    "    \n",
    "    if([username.lower(), pin.lower()] in database):\n",
    "        print('Access Granted ..... \\n\\n hi,' +username +'....,! \\n Welcome to Mickey\\'s programming world.')\n",
    "        break\n",
    "        \n",
    "    elif([username.lower(), pin.lower()] not in database):\n",
    "        print(\"Username & Password does not matched \\n\")\n",
    "        \n",
    "        if i ==2:\n",
    "            print(\"You already took 3 atempts .Please try after 3 hours\\n\\n\")\n",
    "        else:\n",
    "            print(\"Please try again\\n\\n\")\n"
   ]
  },
  {
   "cell_type": "code",
   "execution_count": 12,
   "metadata": {},
   "outputs": [
    {
     "name": "stdout",
     "output_type": "stream",
     "text": [
      "Enter a number-: 7\n",
      "7 is a prime number\n"
     ]
    }
   ],
   "source": [
    "#Program for prime number\n",
    "\n",
    "n = int(input('Enter a number-: '))\n",
    "c=0\n",
    "\n",
    "for i in range(2,n):\n",
    "    if(n%i==0):\n",
    "        c=c+1\n",
    "        break\n",
    "if(c==0):\n",
    "    print(f\"{n} is a prime number\")\n",
    "else:\n",
    "    print(f\"{n} is not a prime number\")"
   ]
  },
  {
   "cell_type": "code",
   "execution_count": 13,
   "metadata": {},
   "outputs": [
    {
     "name": "stdout",
     "output_type": "stream",
     "text": [
      "Enter a number-: 6\n",
      "6 is a perfect number\n"
     ]
    }
   ],
   "source": [
    "#Program for perfect number\n",
    "\n",
    "n = int(input('Enter a number-: '))\n",
    "tot=0\n",
    "for i in range(1,n):\n",
    "    if(n%i==0):\n",
    "        tot=tot+i\n",
    "        \n",
    "if(tot==n):\n",
    "    print(f\"{n} is a perfect number\")\n",
    "else:\n",
    "    print(f\"{n} is not a perfect number\")"
   ]
  },
  {
   "cell_type": "code",
   "execution_count": 14,
   "metadata": {},
   "outputs": [
    {
     "name": "stdout",
     "output_type": "stream",
     "text": [
      "Enter a Number-: 153\n",
      "153 is Armstrong Number\n"
     ]
    }
   ],
   "source": [
    "#Program for armstrong\n",
    "\n",
    "n= int(input('Enter a Number-: '))\n",
    "n1=n\n",
    "n2=n\n",
    "tot=0\n",
    "d = 0      #d= len(str(n))  \n",
    "\n",
    "while(n!=0):\n",
    "    n=n//10\n",
    "    d=d+1\n",
    "\n",
    "while(n1!=0):\n",
    "    rem = n1%10\n",
    "    tot = tot + (rem**d)\n",
    "    n1=n1//10\n",
    "\n",
    "if(n2==tot):\n",
    "    print(f\"{n2} is Armstrong Number\")\n",
    "else:\n",
    "    print(f\"{n2} is not Armstrong Number\")\n"
   ]
  },
  {
   "cell_type": "code",
   "execution_count": 15,
   "metadata": {},
   "outputs": [
    {
     "name": "stdout",
     "output_type": "stream",
     "text": [
      "Enter a number-: 145\n",
      "145 is strong no\n"
     ]
    }
   ],
   "source": [
    "#Program for strong number\n",
    "\n",
    "n=int(input(\"Enter a number-: \"))\n",
    "n1=n\n",
    "\n",
    "tot = 0\n",
    "while(n!=0):\n",
    "    rem = n % 10\n",
    "\n",
    "    fact = 1\n",
    "    for i in range(1,rem+1):\n",
    "        fact = fact * i\n",
    "    \n",
    "    tot = tot + fact\n",
    "    n=n//10\n",
    "\n",
    "\n",
    "if(n1==tot):\n",
    "    print(f\"{n1} is strong no\")\n",
    "else:\n",
    "    print(f\"{n1} is not strong no\")\n"
   ]
  },
  {
   "cell_type": "code",
   "execution_count": 16,
   "metadata": {},
   "outputs": [
    {
     "name": "stdout",
     "output_type": "stream",
     "text": [
      "Enter a number-: 9\n",
      "9 is Neon number\n"
     ]
    }
   ],
   "source": [
    "#Program for neon number\n",
    "\n",
    "n=int(input(\"Enter a number-: \"))\n",
    "\n",
    "sq=n*n\n",
    "tot=0\n",
    "\n",
    "while(sq!=0):\n",
    "    rem=sq%10\n",
    "    tot = tot + rem\n",
    "    sq = sq // 10\n",
    "\n",
    "if(n==tot):\n",
    "    print(f\"{n} is Neon number\")\n",
    "else:\n",
    "    print(f\"{n} is not Neon number\")"
   ]
  },
  {
   "cell_type": "markdown",
   "metadata": {},
   "source": [
    "### Analyse deeply the above codes and keep learning."
   ]
  }
 ],
 "metadata": {
  "kernelspec": {
   "display_name": "Python 3",
   "language": "python",
   "name": "python3"
  },
  "language_info": {
   "codemirror_mode": {
    "name": "ipython",
    "version": 3
   },
   "file_extension": ".py",
   "mimetype": "text/x-python",
   "name": "python",
   "nbconvert_exporter": "python",
   "pygments_lexer": "ipython3",
   "version": "3.8.5"
  }
 },
 "nbformat": 4,
 "nbformat_minor": 4
}
