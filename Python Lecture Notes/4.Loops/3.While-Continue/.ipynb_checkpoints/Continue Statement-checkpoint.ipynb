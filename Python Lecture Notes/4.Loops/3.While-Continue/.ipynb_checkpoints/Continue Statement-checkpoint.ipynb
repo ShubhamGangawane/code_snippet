{
 "cells": [
  {
   "cell_type": "markdown",
   "metadata": {},
   "source": [
    "# While Continue"
   ]
  },
  {
   "cell_type": "markdown",
   "metadata": {},
   "source": [
    "### Continue statement:\n",
    "Like break statement , the continue statement are also used inside the loop & when the program execution reaches to the condition statement the execution immediately jumps back to the start of the loop and re-evaluate the loop condition."
   ]
  },
  {
   "cell_type": "code",
   "execution_count": 1,
   "metadata": {},
   "outputs": [
    {
     "name": "stdout",
     "output_type": "stream",
     "text": [
      "1\n",
      "2\n",
      "3\n",
      "4\n",
      "6\n",
      "7\n",
      "8\n",
      "9\n",
      "10\n",
      "11\n"
     ]
    }
   ],
   "source": [
    "x=0\n",
    "while(x<=10):\n",
    "    x=x+1\n",
    "    if(x==5):\n",
    "        continue\n",
    "    print(x)\n"
   ]
  },
  {
   "cell_type": "markdown",
   "metadata": {},
   "source": [
    "- x is 5 , is missing that's because the when x is set 5, The if condition gets True and the continue statement is executed .\n",
    "- So when continue is executed the execution immediately jumps back to the start of the while loop , so in this case that print function never happens. \n",
    "- That's why, you see when the execution is runs through a loop, we called that is a iteration.\n"
   ]
  },
  {
   "cell_type": "markdown",
   "metadata": {},
   "source": [
    "![title](continue.png)"
   ]
  },
  {
   "cell_type": "markdown",
   "metadata": {},
   "source": [
    "# Geat Job"
   ]
  }
 ],
 "metadata": {
  "kernelspec": {
   "display_name": "Python 3",
   "language": "python",
   "name": "python3"
  },
  "language_info": {
   "codemirror_mode": {
    "name": "ipython",
    "version": 3
   },
   "file_extension": ".py",
   "mimetype": "text/x-python",
   "name": "python",
   "nbconvert_exporter": "python",
   "pygments_lexer": "ipython3",
   "version": "3.8.5"
  }
 },
 "nbformat": 4,
 "nbformat_minor": 4
}
