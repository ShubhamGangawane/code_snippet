{
 "cells": [
  {
   "cell_type": "markdown",
   "metadata": {},
   "source": [
    "# 4.Working with Columns in Pandas."
   ]
  },
  {
   "cell_type": "code",
   "execution_count": 1,
   "metadata": {},
   "outputs": [],
   "source": [
    "import pandas as pd"
   ]
  },
  {
   "cell_type": "markdown",
   "metadata": {},
   "source": [
    "#### Let's take new sample csv dataset..."
   ]
  },
  {
   "cell_type": "code",
   "execution_count": 2,
   "metadata": {},
   "outputs": [
    {
     "data": {
      "text/html": [
       "<div>\n",
       "<style scoped>\n",
       "    .dataframe tbody tr th:only-of-type {\n",
       "        vertical-align: middle;\n",
       "    }\n",
       "\n",
       "    .dataframe tbody tr th {\n",
       "        vertical-align: top;\n",
       "    }\n",
       "\n",
       "    .dataframe thead th {\n",
       "        text-align: right;\n",
       "    }\n",
       "</style>\n",
       "<table border=\"1\" class=\"dataframe\">\n",
       "  <thead>\n",
       "    <tr style=\"text-align: right;\">\n",
       "      <th></th>\n",
       "      <th>1</th>\n",
       "      <th>Mumbai</th>\n",
       "      <th>PQR institute .Pvt</th>\n",
       "      <th>BI</th>\n",
       "      <th>MH</th>\n",
       "      <th>9 Months</th>\n",
       "    </tr>\n",
       "  </thead>\n",
       "  <tbody>\n",
       "    <tr>\n",
       "      <th>0</th>\n",
       "      <td>2</td>\n",
       "      <td>Delhi</td>\n",
       "      <td>ABC institute .Pvt.LTD</td>\n",
       "      <td>AI</td>\n",
       "      <td>UP</td>\n",
       "      <td>18 Months</td>\n",
       "    </tr>\n",
       "    <tr>\n",
       "      <th>1</th>\n",
       "      <td>3</td>\n",
       "      <td>Bengaluru</td>\n",
       "      <td>MNO  institute .Ltd</td>\n",
       "      <td>Data Science</td>\n",
       "      <td>TN</td>\n",
       "      <td>11 Months</td>\n",
       "    </tr>\n",
       "    <tr>\n",
       "      <th>2</th>\n",
       "      <td>4</td>\n",
       "      <td>Bhopal</td>\n",
       "      <td>RST  institute .Pvt.LTD</td>\n",
       "      <td>ML</td>\n",
       "      <td>MP</td>\n",
       "      <td>3 Months</td>\n",
       "    </tr>\n",
       "    <tr>\n",
       "      <th>3</th>\n",
       "      <td>5</td>\n",
       "      <td>Mumbai</td>\n",
       "      <td>EFG  institute .Pvt.LTD</td>\n",
       "      <td>DL</td>\n",
       "      <td>MH</td>\n",
       "      <td>3 Months</td>\n",
       "    </tr>\n",
       "    <tr>\n",
       "      <th>4</th>\n",
       "      <td>6</td>\n",
       "      <td>Hyderabad</td>\n",
       "      <td>LMN  institute</td>\n",
       "      <td>Could</td>\n",
       "      <td>AP</td>\n",
       "      <td>4 Months</td>\n",
       "    </tr>\n",
       "  </tbody>\n",
       "</table>\n",
       "</div>"
      ],
      "text/plain": [
       "   1     Mumbai       PQR institute .Pvt            BI  MH   9 Months\n",
       "0  2      Delhi   ABC institute .Pvt.LTD            AI  UP  18 Months\n",
       "1  3  Bengaluru      MNO  institute .Ltd  Data Science  TN  11 Months\n",
       "2  4     Bhopal  RST  institute .Pvt.LTD            ML  MP   3 Months\n",
       "3  5     Mumbai  EFG  institute .Pvt.LTD            DL  MH   3 Months\n",
       "4  6  Hyderabad          LMN  institute          Could  AP   4 Months"
      ]
     },
     "execution_count": 2,
     "metadata": {},
     "output_type": "execute_result"
    }
   ],
   "source": [
    "df = pd.read_csv('Datasets/course.csv')\n",
    "df.head()"
   ]
  },
  {
   "cell_type": "markdown",
   "metadata": {},
   "source": [
    "#### As we can see there is No Header or Column name here, So let's begin with adding a header or columns name as we did in the previous chapter."
   ]
  },
  {
   "cell_type": "markdown",
   "metadata": {},
   "source": [
    "## a.Adding Column Name/Header"
   ]
  },
  {
   "cell_type": "code",
   "execution_count": 3,
   "metadata": {},
   "outputs": [
    {
     "data": {
      "text/html": [
       "<div>\n",
       "<style scoped>\n",
       "    .dataframe tbody tr th:only-of-type {\n",
       "        vertical-align: middle;\n",
       "    }\n",
       "\n",
       "    .dataframe tbody tr th {\n",
       "        vertical-align: top;\n",
       "    }\n",
       "\n",
       "    .dataframe thead th {\n",
       "        text-align: right;\n",
       "    }\n",
       "</style>\n",
       "<table border=\"1\" class=\"dataframe\">\n",
       "  <thead>\n",
       "    <tr style=\"text-align: right;\">\n",
       "      <th></th>\n",
       "      <th>Sr no</th>\n",
       "      <th>City</th>\n",
       "      <th>Coaching Center</th>\n",
       "      <th>Courses</th>\n",
       "      <th>State</th>\n",
       "      <th>Course Duration</th>\n",
       "    </tr>\n",
       "  </thead>\n",
       "  <tbody>\n",
       "    <tr>\n",
       "      <th>0</th>\n",
       "      <td>1</td>\n",
       "      <td>Mumbai</td>\n",
       "      <td>PQR institute .Pvt</td>\n",
       "      <td>BI</td>\n",
       "      <td>MH</td>\n",
       "      <td>9 Months</td>\n",
       "    </tr>\n",
       "    <tr>\n",
       "      <th>1</th>\n",
       "      <td>2</td>\n",
       "      <td>Delhi</td>\n",
       "      <td>ABC institute .Pvt.LTD</td>\n",
       "      <td>AI</td>\n",
       "      <td>UP</td>\n",
       "      <td>18 Months</td>\n",
       "    </tr>\n",
       "    <tr>\n",
       "      <th>2</th>\n",
       "      <td>3</td>\n",
       "      <td>Bengaluru</td>\n",
       "      <td>MNO  institute .Ltd</td>\n",
       "      <td>Data Science</td>\n",
       "      <td>TN</td>\n",
       "      <td>11 Months</td>\n",
       "    </tr>\n",
       "    <tr>\n",
       "      <th>3</th>\n",
       "      <td>4</td>\n",
       "      <td>Bhopal</td>\n",
       "      <td>RST  institute .Pvt.LTD</td>\n",
       "      <td>ML</td>\n",
       "      <td>MP</td>\n",
       "      <td>3 Months</td>\n",
       "    </tr>\n",
       "    <tr>\n",
       "      <th>4</th>\n",
       "      <td>5</td>\n",
       "      <td>Mumbai</td>\n",
       "      <td>EFG  institute .Pvt.LTD</td>\n",
       "      <td>DL</td>\n",
       "      <td>MH</td>\n",
       "      <td>3 Months</td>\n",
       "    </tr>\n",
       "  </tbody>\n",
       "</table>\n",
       "</div>"
      ],
      "text/plain": [
       "   Sr no       City          Coaching Center       Courses State  \\\n",
       "0      1     Mumbai       PQR institute .Pvt            BI    MH   \n",
       "1      2      Delhi   ABC institute .Pvt.LTD            AI    UP   \n",
       "2      3  Bengaluru      MNO  institute .Ltd  Data Science    TN   \n",
       "3      4     Bhopal  RST  institute .Pvt.LTD            ML    MP   \n",
       "4      5     Mumbai  EFG  institute .Pvt.LTD            DL    MH   \n",
       "\n",
       "  Course Duration  \n",
       "0        9 Months  \n",
       "1       18 Months  \n",
       "2       11 Months  \n",
       "3        3 Months  \n",
       "4        3 Months  "
      ]
     },
     "execution_count": 3,
     "metadata": {},
     "output_type": "execute_result"
    }
   ],
   "source": [
    "header = ['Sr no','City','Coaching Center','Courses','State','Course Duration']\n",
    "\n",
    "df = pd.read_csv('Datasets/course.csv',header=None,names=header)\n",
    "df.head()"
   ]
  },
  {
   "cell_type": "markdown",
   "metadata": {},
   "source": [
    "## b.Selecting a Column"
   ]
  },
  {
   "cell_type": "markdown",
   "metadata": {},
   "source": [
    "##### There are two different ways, from which we can select a column i.e\n",
    "i. Dot Notation\n",
    "ii. Bracket Notation"
   ]
  },
  {
   "cell_type": "markdown",
   "metadata": {},
   "source": [
    "### i. Dot Notation"
   ]
  },
  {
   "cell_type": "markdown",
   "metadata": {},
   "source": [
    "##### Syntax: DataFrame.Column_name"
   ]
  },
  {
   "cell_type": "code",
   "execution_count": 4,
   "metadata": {},
   "outputs": [
    {
     "data": {
      "text/plain": [
       "0       Mumbai\n",
       "1        Delhi\n",
       "2    Bengaluru\n",
       "3       Bhopal\n",
       "4       Mumbai\n",
       "Name: City, dtype: object"
      ]
     },
     "execution_count": 4,
     "metadata": {},
     "output_type": "execute_result"
    }
   ],
   "source": [
    "df.City.head()        #.head() is just extract 1st five rows of column"
   ]
  },
  {
   "cell_type": "markdown",
   "metadata": {},
   "source": [
    "#### Make sure that you write the exact same column name as the column name is case-sensitive."
   ]
  },
  {
   "cell_type": "code",
   "execution_count": 5,
   "metadata": {},
   "outputs": [
    {
     "ename": "AttributeError",
     "evalue": "'DataFrame' object has no attribute 'city'",
     "output_type": "error",
     "traceback": [
      "\u001b[1;31m---------------------------------------------------------------------------\u001b[0m",
      "\u001b[1;31mAttributeError\u001b[0m                            Traceback (most recent call last)",
      "\u001b[1;32m<ipython-input-5-5ff0afc3e317>\u001b[0m in \u001b[0;36m<module>\u001b[1;34m\u001b[0m\n\u001b[0;32m      1\u001b[0m \u001b[1;31m#for example/\u001b[0m\u001b[1;33m\u001b[0m\u001b[1;33m\u001b[0m\u001b[1;33m\u001b[0m\u001b[0m\n\u001b[1;32m----> 2\u001b[1;33m \u001b[0mdf\u001b[0m\u001b[1;33m.\u001b[0m\u001b[0mcity\u001b[0m\u001b[1;33m.\u001b[0m\u001b[0mhead\u001b[0m\u001b[1;33m(\u001b[0m\u001b[1;33m)\u001b[0m\u001b[1;33m\u001b[0m\u001b[1;33m\u001b[0m\u001b[0m\n\u001b[0m",
      "\u001b[1;32m~\\anaconda3\\lib\\site-packages\\pandas\\core\\generic.py\u001b[0m in \u001b[0;36m__getattr__\u001b[1;34m(self, name)\u001b[0m\n\u001b[0;32m   5137\u001b[0m             \u001b[1;32mif\u001b[0m \u001b[0mself\u001b[0m\u001b[1;33m.\u001b[0m\u001b[0m_info_axis\u001b[0m\u001b[1;33m.\u001b[0m\u001b[0m_can_hold_identifiers_and_holds_name\u001b[0m\u001b[1;33m(\u001b[0m\u001b[0mname\u001b[0m\u001b[1;33m)\u001b[0m\u001b[1;33m:\u001b[0m\u001b[1;33m\u001b[0m\u001b[1;33m\u001b[0m\u001b[0m\n\u001b[0;32m   5138\u001b[0m                 \u001b[1;32mreturn\u001b[0m \u001b[0mself\u001b[0m\u001b[1;33m[\u001b[0m\u001b[0mname\u001b[0m\u001b[1;33m]\u001b[0m\u001b[1;33m\u001b[0m\u001b[1;33m\u001b[0m\u001b[0m\n\u001b[1;32m-> 5139\u001b[1;33m             \u001b[1;32mreturn\u001b[0m \u001b[0mobject\u001b[0m\u001b[1;33m.\u001b[0m\u001b[0m__getattribute__\u001b[0m\u001b[1;33m(\u001b[0m\u001b[0mself\u001b[0m\u001b[1;33m,\u001b[0m \u001b[0mname\u001b[0m\u001b[1;33m)\u001b[0m\u001b[1;33m\u001b[0m\u001b[1;33m\u001b[0m\u001b[0m\n\u001b[0m\u001b[0;32m   5140\u001b[0m \u001b[1;33m\u001b[0m\u001b[0m\n\u001b[0;32m   5141\u001b[0m     \u001b[1;32mdef\u001b[0m \u001b[0m__setattr__\u001b[0m\u001b[1;33m(\u001b[0m\u001b[0mself\u001b[0m\u001b[1;33m,\u001b[0m \u001b[0mname\u001b[0m\u001b[1;33m:\u001b[0m \u001b[0mstr\u001b[0m\u001b[1;33m,\u001b[0m \u001b[0mvalue\u001b[0m\u001b[1;33m)\u001b[0m \u001b[1;33m->\u001b[0m \u001b[1;32mNone\u001b[0m\u001b[1;33m:\u001b[0m\u001b[1;33m\u001b[0m\u001b[1;33m\u001b[0m\u001b[0m\n",
      "\u001b[1;31mAttributeError\u001b[0m: 'DataFrame' object has no attribute 'city'"
     ]
    }
   ],
   "source": [
    "#for example/\n",
    "df.city.head()"
   ]
  },
  {
   "cell_type": "markdown",
   "metadata": {},
   "source": [
    "#### As you can see, if we write small c in City it gives an error."
   ]
  },
  {
   "cell_type": "markdown",
   "metadata": {},
   "source": [
    "### However dot notation will not work if column name is seperated by space. In that case we have to use Bracket Notation"
   ]
  },
  {
   "cell_type": "code",
   "execution_count": 6,
   "metadata": {},
   "outputs": [
    {
     "ename": "SyntaxError",
     "evalue": "invalid syntax (<ipython-input-6-4fc0569430b9>, line 2)",
     "output_type": "error",
     "traceback": [
      "\u001b[1;36m  File \u001b[1;32m\"<ipython-input-6-4fc0569430b9>\"\u001b[1;36m, line \u001b[1;32m2\u001b[0m\n\u001b[1;33m    df.Sr no\u001b[0m\n\u001b[1;37m          ^\u001b[0m\n\u001b[1;31mSyntaxError\u001b[0m\u001b[1;31m:\u001b[0m invalid syntax\n"
     ]
    }
   ],
   "source": [
    "#for example/\n",
    "df.Sr no"
   ]
  },
  {
   "cell_type": "code",
   "execution_count": 7,
   "metadata": {},
   "outputs": [
    {
     "ename": "SyntaxError",
     "evalue": "invalid syntax (<ipython-input-7-850d4a869666>, line 1)",
     "output_type": "error",
     "traceback": [
      "\u001b[1;36m  File \u001b[1;32m\"<ipython-input-7-850d4a869666>\"\u001b[1;36m, line \u001b[1;32m1\u001b[0m\n\u001b[1;33m    df.Coaching Center\u001b[0m\n\u001b[1;37m                ^\u001b[0m\n\u001b[1;31mSyntaxError\u001b[0m\u001b[1;31m:\u001b[0m invalid syntax\n"
     ]
    }
   ],
   "source": [
    "df.Coaching Center"
   ]
  },
  {
   "cell_type": "markdown",
   "metadata": {},
   "source": [
    "### ii.Bracket Notation"
   ]
  },
  {
   "cell_type": "markdown",
   "metadata": {},
   "source": [
    "##### Syntax: DataFrame['column_name']"
   ]
  },
  {
   "cell_type": "code",
   "execution_count": 8,
   "metadata": {},
   "outputs": [
    {
     "data": {
      "text/plain": [
       "0    1\n",
       "1    2\n",
       "2    3\n",
       "3    4\n",
       "4    5\n",
       "Name: Sr no, dtype: int64"
      ]
     },
     "execution_count": 8,
     "metadata": {},
     "output_type": "execute_result"
    }
   ],
   "source": [
    "df['Sr no'].head()"
   ]
  },
  {
   "cell_type": "code",
   "execution_count": 9,
   "metadata": {},
   "outputs": [
    {
     "data": {
      "text/plain": [
       "0         PQR institute .Pvt\n",
       "1     ABC institute .Pvt.LTD\n",
       "2        MNO  institute .Ltd\n",
       "3    RST  institute .Pvt.LTD\n",
       "4    EFG  institute .Pvt.LTD\n",
       "Name: Coaching Center, dtype: object"
      ]
     },
     "execution_count": 9,
     "metadata": {},
     "output_type": "execute_result"
    }
   ],
   "source": [
    "df['Coaching Center'].head()"
   ]
  },
  {
   "cell_type": "markdown",
   "metadata": {},
   "source": [
    "### Using Bracket notation should be an ideal way of selecting or working with columns."
   ]
  },
  {
   "cell_type": "markdown",
   "metadata": {},
   "source": [
    "## c.Adding new Column in DataFrame"
   ]
  },
  {
   "cell_type": "markdown",
   "metadata": {},
   "source": [
    "#### Let's first have a look over out dataframe"
   ]
  },
  {
   "cell_type": "code",
   "execution_count": 10,
   "metadata": {},
   "outputs": [
    {
     "data": {
      "text/html": [
       "<div>\n",
       "<style scoped>\n",
       "    .dataframe tbody tr th:only-of-type {\n",
       "        vertical-align: middle;\n",
       "    }\n",
       "\n",
       "    .dataframe tbody tr th {\n",
       "        vertical-align: top;\n",
       "    }\n",
       "\n",
       "    .dataframe thead th {\n",
       "        text-align: right;\n",
       "    }\n",
       "</style>\n",
       "<table border=\"1\" class=\"dataframe\">\n",
       "  <thead>\n",
       "    <tr style=\"text-align: right;\">\n",
       "      <th></th>\n",
       "      <th>Sr no</th>\n",
       "      <th>City</th>\n",
       "      <th>Coaching Center</th>\n",
       "      <th>Courses</th>\n",
       "      <th>State</th>\n",
       "      <th>Course Duration</th>\n",
       "    </tr>\n",
       "  </thead>\n",
       "  <tbody>\n",
       "    <tr>\n",
       "      <th>0</th>\n",
       "      <td>1</td>\n",
       "      <td>Mumbai</td>\n",
       "      <td>PQR institute .Pvt</td>\n",
       "      <td>BI</td>\n",
       "      <td>MH</td>\n",
       "      <td>9 Months</td>\n",
       "    </tr>\n",
       "    <tr>\n",
       "      <th>1</th>\n",
       "      <td>2</td>\n",
       "      <td>Delhi</td>\n",
       "      <td>ABC institute .Pvt.LTD</td>\n",
       "      <td>AI</td>\n",
       "      <td>UP</td>\n",
       "      <td>18 Months</td>\n",
       "    </tr>\n",
       "    <tr>\n",
       "      <th>2</th>\n",
       "      <td>3</td>\n",
       "      <td>Bengaluru</td>\n",
       "      <td>MNO  institute .Ltd</td>\n",
       "      <td>Data Science</td>\n",
       "      <td>TN</td>\n",
       "      <td>11 Months</td>\n",
       "    </tr>\n",
       "    <tr>\n",
       "      <th>3</th>\n",
       "      <td>4</td>\n",
       "      <td>Bhopal</td>\n",
       "      <td>RST  institute .Pvt.LTD</td>\n",
       "      <td>ML</td>\n",
       "      <td>MP</td>\n",
       "      <td>3 Months</td>\n",
       "    </tr>\n",
       "    <tr>\n",
       "      <th>4</th>\n",
       "      <td>5</td>\n",
       "      <td>Mumbai</td>\n",
       "      <td>EFG  institute .Pvt.LTD</td>\n",
       "      <td>DL</td>\n",
       "      <td>MH</td>\n",
       "      <td>3 Months</td>\n",
       "    </tr>\n",
       "  </tbody>\n",
       "</table>\n",
       "</div>"
      ],
      "text/plain": [
       "   Sr no       City          Coaching Center       Courses State  \\\n",
       "0      1     Mumbai       PQR institute .Pvt            BI    MH   \n",
       "1      2      Delhi   ABC institute .Pvt.LTD            AI    UP   \n",
       "2      3  Bengaluru      MNO  institute .Ltd  Data Science    TN   \n",
       "3      4     Bhopal  RST  institute .Pvt.LTD            ML    MP   \n",
       "4      5     Mumbai  EFG  institute .Pvt.LTD            DL    MH   \n",
       "\n",
       "  Course Duration  \n",
       "0        9 Months  \n",
       "1       18 Months  \n",
       "2       11 Months  \n",
       "3        3 Months  \n",
       "4        3 Months  "
      ]
     },
     "execution_count": 10,
     "metadata": {},
     "output_type": "execute_result"
    }
   ],
   "source": [
    "df.head()"
   ]
  },
  {
   "cell_type": "markdown",
   "metadata": {},
   "source": [
    "#### In our dataframe, there are two columns named City and State. Now our object is to first join this City and State columns and then Add it in the DataFrame as Location."
   ]
  },
  {
   "cell_type": "markdown",
   "metadata": {},
   "source": [
    "#### Joining two different column is as same as string concatenation i.e"
   ]
  },
  {
   "cell_type": "code",
   "execution_count": 11,
   "metadata": {},
   "outputs": [
    {
     "data": {
      "text/plain": [
       "0        Mumbai, MH\n",
       "1         Delhi, UP\n",
       "2     Bengaluru, TN\n",
       "3        Bhopal, MP\n",
       "4        Mumbai, MH\n",
       "5     Hyderabad, AP\n",
       "6         Patna, BH\n",
       "7       Channai, KT\n",
       "8       Kolkata, WB\n",
       "9     Hyderabad, AP\n",
       "10       Bhopal, MP\n",
       "11         Pune, MH\n",
       "12        Delhi, UP\n",
       "13       Mumbai, MH\n",
       "14        Patna, BH\n",
       "15        Surat, GJ\n",
       "16        Delhi, UP\n",
       "17       Mumbai, MH\n",
       "18         Pune, MH\n",
       "19    Bengaluru, TN\n",
       "20        Surat, Gj\n",
       "21    Hyderabad, AP\n",
       "22       Mumbai, MH\n",
       "23      Channai, KT\n",
       "24        Patna, BH\n",
       "dtype: object"
      ]
     },
     "execution_count": 11,
     "metadata": {},
     "output_type": "execute_result"
    }
   ],
   "source": [
    "df['City'] +', ' +df['State']"
   ]
  },
  {
   "cell_type": "markdown",
   "metadata": {},
   "source": [
    "#### so let's store this in a variable called Location,"
   ]
  },
  {
   "cell_type": "code",
   "execution_count": 12,
   "metadata": {},
   "outputs": [
    {
     "data": {
      "text/plain": [
       "0        Mumbai, MH\n",
       "1         Delhi, UP\n",
       "2     Bengaluru, TN\n",
       "3        Bhopal, MP\n",
       "4        Mumbai, MH\n",
       "5     Hyderabad, AP\n",
       "6         Patna, BH\n",
       "7       Channai, KT\n",
       "8       Kolkata, WB\n",
       "9     Hyderabad, AP\n",
       "10       Bhopal, MP\n",
       "11         Pune, MH\n",
       "12        Delhi, UP\n",
       "13       Mumbai, MH\n",
       "14        Patna, BH\n",
       "15        Surat, GJ\n",
       "16        Delhi, UP\n",
       "17       Mumbai, MH\n",
       "18         Pune, MH\n",
       "19    Bengaluru, TN\n",
       "20        Surat, Gj\n",
       "21    Hyderabad, AP\n",
       "22       Mumbai, MH\n",
       "23      Channai, KT\n",
       "24        Patna, BH\n",
       "dtype: object"
      ]
     },
     "execution_count": 12,
     "metadata": {},
     "output_type": "execute_result"
    }
   ],
   "source": [
    "Location = df['City']+', '+df['State']\n",
    "Location"
   ]
  },
  {
   "cell_type": "markdown",
   "metadata": {},
   "source": [
    "#### Now let's add Location into our DataFrame.     Note: For assigning new columns into dataframe alwasy use bracket notation as the dot notation will not work here."
   ]
  },
  {
   "cell_type": "code",
   "execution_count": 13,
   "metadata": {},
   "outputs": [],
   "source": [
    "df['Location'] = Location"
   ]
  },
  {
   "cell_type": "code",
   "execution_count": 14,
   "metadata": {},
   "outputs": [
    {
     "data": {
      "text/html": [
       "<div>\n",
       "<style scoped>\n",
       "    .dataframe tbody tr th:only-of-type {\n",
       "        vertical-align: middle;\n",
       "    }\n",
       "\n",
       "    .dataframe tbody tr th {\n",
       "        vertical-align: top;\n",
       "    }\n",
       "\n",
       "    .dataframe thead th {\n",
       "        text-align: right;\n",
       "    }\n",
       "</style>\n",
       "<table border=\"1\" class=\"dataframe\">\n",
       "  <thead>\n",
       "    <tr style=\"text-align: right;\">\n",
       "      <th></th>\n",
       "      <th>Sr no</th>\n",
       "      <th>City</th>\n",
       "      <th>Coaching Center</th>\n",
       "      <th>Courses</th>\n",
       "      <th>State</th>\n",
       "      <th>Course Duration</th>\n",
       "      <th>Location</th>\n",
       "    </tr>\n",
       "  </thead>\n",
       "  <tbody>\n",
       "    <tr>\n",
       "      <th>0</th>\n",
       "      <td>1</td>\n",
       "      <td>Mumbai</td>\n",
       "      <td>PQR institute .Pvt</td>\n",
       "      <td>BI</td>\n",
       "      <td>MH</td>\n",
       "      <td>9 Months</td>\n",
       "      <td>Mumbai, MH</td>\n",
       "    </tr>\n",
       "    <tr>\n",
       "      <th>1</th>\n",
       "      <td>2</td>\n",
       "      <td>Delhi</td>\n",
       "      <td>ABC institute .Pvt.LTD</td>\n",
       "      <td>AI</td>\n",
       "      <td>UP</td>\n",
       "      <td>18 Months</td>\n",
       "      <td>Delhi, UP</td>\n",
       "    </tr>\n",
       "    <tr>\n",
       "      <th>2</th>\n",
       "      <td>3</td>\n",
       "      <td>Bengaluru</td>\n",
       "      <td>MNO  institute .Ltd</td>\n",
       "      <td>Data Science</td>\n",
       "      <td>TN</td>\n",
       "      <td>11 Months</td>\n",
       "      <td>Bengaluru, TN</td>\n",
       "    </tr>\n",
       "    <tr>\n",
       "      <th>3</th>\n",
       "      <td>4</td>\n",
       "      <td>Bhopal</td>\n",
       "      <td>RST  institute .Pvt.LTD</td>\n",
       "      <td>ML</td>\n",
       "      <td>MP</td>\n",
       "      <td>3 Months</td>\n",
       "      <td>Bhopal, MP</td>\n",
       "    </tr>\n",
       "    <tr>\n",
       "      <th>4</th>\n",
       "      <td>5</td>\n",
       "      <td>Mumbai</td>\n",
       "      <td>EFG  institute .Pvt.LTD</td>\n",
       "      <td>DL</td>\n",
       "      <td>MH</td>\n",
       "      <td>3 Months</td>\n",
       "      <td>Mumbai, MH</td>\n",
       "    </tr>\n",
       "    <tr>\n",
       "      <th>5</th>\n",
       "      <td>6</td>\n",
       "      <td>Hyderabad</td>\n",
       "      <td>LMN  institute</td>\n",
       "      <td>Could</td>\n",
       "      <td>AP</td>\n",
       "      <td>4 Months</td>\n",
       "      <td>Hyderabad, AP</td>\n",
       "    </tr>\n",
       "    <tr>\n",
       "      <th>6</th>\n",
       "      <td>7</td>\n",
       "      <td>Patna</td>\n",
       "      <td>DEF   institute .Ltd</td>\n",
       "      <td>Web Serv</td>\n",
       "      <td>BH</td>\n",
       "      <td>4 Months</td>\n",
       "      <td>Patna, BH</td>\n",
       "    </tr>\n",
       "    <tr>\n",
       "      <th>7</th>\n",
       "      <td>8</td>\n",
       "      <td>Channai</td>\n",
       "      <td>PQR  institute .Pvt.LTD</td>\n",
       "      <td>AWS</td>\n",
       "      <td>KT</td>\n",
       "      <td>3 Months</td>\n",
       "      <td>Channai, KT</td>\n",
       "    </tr>\n",
       "    <tr>\n",
       "      <th>8</th>\n",
       "      <td>9</td>\n",
       "      <td>Kolkata</td>\n",
       "      <td>UVW  institute .Ltd</td>\n",
       "      <td>Networking</td>\n",
       "      <td>WB</td>\n",
       "      <td>3 Months</td>\n",
       "      <td>Kolkata, WB</td>\n",
       "    </tr>\n",
       "    <tr>\n",
       "      <th>9</th>\n",
       "      <td>10</td>\n",
       "      <td>Hyderabad</td>\n",
       "      <td>GHI   institute .Ltd</td>\n",
       "      <td>AI</td>\n",
       "      <td>AP</td>\n",
       "      <td>18 Months</td>\n",
       "      <td>Hyderabad, AP</td>\n",
       "    </tr>\n",
       "    <tr>\n",
       "      <th>10</th>\n",
       "      <td>11</td>\n",
       "      <td>Bhopal</td>\n",
       "      <td>IJK   institute</td>\n",
       "      <td>DL</td>\n",
       "      <td>MP</td>\n",
       "      <td>3 Months</td>\n",
       "      <td>Bhopal, MP</td>\n",
       "    </tr>\n",
       "    <tr>\n",
       "      <th>11</th>\n",
       "      <td>12</td>\n",
       "      <td>Pune</td>\n",
       "      <td>KLM   institute .Ltd</td>\n",
       "      <td>Data Science</td>\n",
       "      <td>MH</td>\n",
       "      <td>11 Months</td>\n",
       "      <td>Pune, MH</td>\n",
       "    </tr>\n",
       "    <tr>\n",
       "      <th>12</th>\n",
       "      <td>13</td>\n",
       "      <td>Delhi</td>\n",
       "      <td>STU  institute .Ltd</td>\n",
       "      <td>BI</td>\n",
       "      <td>UP</td>\n",
       "      <td>6 Months</td>\n",
       "      <td>Delhi, UP</td>\n",
       "    </tr>\n",
       "    <tr>\n",
       "      <th>13</th>\n",
       "      <td>14</td>\n",
       "      <td>Mumbai</td>\n",
       "      <td>XYZ  institute .Pvt.LTD</td>\n",
       "      <td>Could</td>\n",
       "      <td>MH</td>\n",
       "      <td>3 Months</td>\n",
       "      <td>Mumbai, MH</td>\n",
       "    </tr>\n",
       "    <tr>\n",
       "      <th>14</th>\n",
       "      <td>15</td>\n",
       "      <td>Patna</td>\n",
       "      <td>NOP  institute .Ltd</td>\n",
       "      <td>AWS</td>\n",
       "      <td>BH</td>\n",
       "      <td>3 Months</td>\n",
       "      <td>Patna, BH</td>\n",
       "    </tr>\n",
       "    <tr>\n",
       "      <th>15</th>\n",
       "      <td>16</td>\n",
       "      <td>Surat</td>\n",
       "      <td>QRS  institute .Ltd</td>\n",
       "      <td>ML</td>\n",
       "      <td>GJ</td>\n",
       "      <td>3 Months</td>\n",
       "      <td>Surat, GJ</td>\n",
       "    </tr>\n",
       "    <tr>\n",
       "      <th>16</th>\n",
       "      <td>17</td>\n",
       "      <td>Delhi</td>\n",
       "      <td>WXY  institute</td>\n",
       "      <td>AWS</td>\n",
       "      <td>UP</td>\n",
       "      <td>3 Months</td>\n",
       "      <td>Delhi, UP</td>\n",
       "    </tr>\n",
       "    <tr>\n",
       "      <th>17</th>\n",
       "      <td>18</td>\n",
       "      <td>Mumbai</td>\n",
       "      <td>ZAB   institute</td>\n",
       "      <td>Web Serv</td>\n",
       "      <td>MH</td>\n",
       "      <td>4 Months</td>\n",
       "      <td>Mumbai, MH</td>\n",
       "    </tr>\n",
       "    <tr>\n",
       "      <th>18</th>\n",
       "      <td>19</td>\n",
       "      <td>Pune</td>\n",
       "      <td>CDE  institute .Ltd</td>\n",
       "      <td>Data Science</td>\n",
       "      <td>MH</td>\n",
       "      <td>11 Months</td>\n",
       "      <td>Pune, MH</td>\n",
       "    </tr>\n",
       "    <tr>\n",
       "      <th>19</th>\n",
       "      <td>20</td>\n",
       "      <td>Bengaluru</td>\n",
       "      <td>JKL  institute .Pvt.LTD</td>\n",
       "      <td>AI</td>\n",
       "      <td>TN</td>\n",
       "      <td>18 Months</td>\n",
       "      <td>Bengaluru, TN</td>\n",
       "    </tr>\n",
       "    <tr>\n",
       "      <th>20</th>\n",
       "      <td>21</td>\n",
       "      <td>Surat</td>\n",
       "      <td>INS   institute</td>\n",
       "      <td>Data Science</td>\n",
       "      <td>Gj</td>\n",
       "      <td>11 Months</td>\n",
       "      <td>Surat, Gj</td>\n",
       "    </tr>\n",
       "    <tr>\n",
       "      <th>21</th>\n",
       "      <td>22</td>\n",
       "      <td>Hyderabad</td>\n",
       "      <td>ZAP  institute .Ltd</td>\n",
       "      <td>ML</td>\n",
       "      <td>AP</td>\n",
       "      <td>3 Months</td>\n",
       "      <td>Hyderabad, AP</td>\n",
       "    </tr>\n",
       "    <tr>\n",
       "      <th>22</th>\n",
       "      <td>23</td>\n",
       "      <td>Mumbai</td>\n",
       "      <td>XCAD  institute .Pvt.LTD</td>\n",
       "      <td>DL</td>\n",
       "      <td>MH</td>\n",
       "      <td>3 Months</td>\n",
       "      <td>Mumbai, MH</td>\n",
       "    </tr>\n",
       "    <tr>\n",
       "      <th>23</th>\n",
       "      <td>24</td>\n",
       "      <td>Channai</td>\n",
       "      <td>MTK   institute</td>\n",
       "      <td>Could</td>\n",
       "      <td>KT</td>\n",
       "      <td>4 Months</td>\n",
       "      <td>Channai, KT</td>\n",
       "    </tr>\n",
       "    <tr>\n",
       "      <th>24</th>\n",
       "      <td>25</td>\n",
       "      <td>Patna</td>\n",
       "      <td>BST  institute .Ltd</td>\n",
       "      <td>Web Serv</td>\n",
       "      <td>BH</td>\n",
       "      <td>4 Months</td>\n",
       "      <td>Patna, BH</td>\n",
       "    </tr>\n",
       "  </tbody>\n",
       "</table>\n",
       "</div>"
      ],
      "text/plain": [
       "    Sr no       City           Coaching Center       Courses State  \\\n",
       "0       1     Mumbai        PQR institute .Pvt            BI    MH   \n",
       "1       2      Delhi    ABC institute .Pvt.LTD            AI    UP   \n",
       "2       3  Bengaluru       MNO  institute .Ltd  Data Science    TN   \n",
       "3       4     Bhopal   RST  institute .Pvt.LTD            ML    MP   \n",
       "4       5     Mumbai   EFG  institute .Pvt.LTD            DL    MH   \n",
       "5       6  Hyderabad           LMN  institute          Could    AP   \n",
       "6       7      Patna      DEF   institute .Ltd      Web Serv    BH   \n",
       "7       8    Channai   PQR  institute .Pvt.LTD           AWS    KT   \n",
       "8       9    Kolkata       UVW  institute .Ltd    Networking    WB   \n",
       "9      10  Hyderabad      GHI   institute .Ltd            AI    AP   \n",
       "10     11     Bhopal          IJK   institute             DL    MP   \n",
       "11     12       Pune      KLM   institute .Ltd  Data Science    MH   \n",
       "12     13      Delhi       STU  institute .Ltd            BI    UP   \n",
       "13     14     Mumbai   XYZ  institute .Pvt.LTD         Could    MH   \n",
       "14     15      Patna       NOP  institute .Ltd           AWS    BH   \n",
       "15     16      Surat       QRS  institute .Ltd            ML    GJ   \n",
       "16     17      Delhi           WXY  institute            AWS    UP   \n",
       "17     18     Mumbai          ZAB   institute       Web Serv    MH   \n",
       "18     19       Pune       CDE  institute .Ltd  Data Science    MH   \n",
       "19     20  Bengaluru   JKL  institute .Pvt.LTD            AI    TN   \n",
       "20     21      Surat           INS   institute  Data Science    Gj   \n",
       "21     22  Hyderabad       ZAP  institute .Ltd            ML    AP   \n",
       "22     23     Mumbai  XCAD  institute .Pvt.LTD            DL    MH   \n",
       "23     24    Channai          MTK   institute          Could    KT   \n",
       "24     25      Patna       BST  institute .Ltd      Web Serv    BH   \n",
       "\n",
       "   Course Duration       Location  \n",
       "0         9 Months     Mumbai, MH  \n",
       "1        18 Months      Delhi, UP  \n",
       "2        11 Months  Bengaluru, TN  \n",
       "3         3 Months     Bhopal, MP  \n",
       "4         3 Months     Mumbai, MH  \n",
       "5         4 Months  Hyderabad, AP  \n",
       "6         4 Months      Patna, BH  \n",
       "7         3 Months    Channai, KT  \n",
       "8         3 Months    Kolkata, WB  \n",
       "9        18 Months  Hyderabad, AP  \n",
       "10        3 Months     Bhopal, MP  \n",
       "11       11 Months       Pune, MH  \n",
       "12        6 Months      Delhi, UP  \n",
       "13        3 Months     Mumbai, MH  \n",
       "14        3 Months      Patna, BH  \n",
       "15        3 Months      Surat, GJ  \n",
       "16        3 Months      Delhi, UP  \n",
       "17        4 Months     Mumbai, MH  \n",
       "18       11 Months       Pune, MH  \n",
       "19       18 Months  Bengaluru, TN  \n",
       "20       11 Months      Surat, Gj  \n",
       "21        3 Months  Hyderabad, AP  \n",
       "22        3 Months     Mumbai, MH  \n",
       "23        4 Months    Channai, KT  \n",
       "24        4 Months      Patna, BH  "
      ]
     },
     "execution_count": 14,
     "metadata": {},
     "output_type": "execute_result"
    }
   ],
   "source": [
    "df"
   ]
  },
  {
   "cell_type": "markdown",
   "metadata": {},
   "source": [
    "#### Our new column Location is added into the dataframe. here but it wont reflect into out original dataset. If you again import the same dataset, you will find there is no change made into it."
   ]
  },
  {
   "cell_type": "markdown",
   "metadata": {},
   "source": [
    "## d.Deleting column in Pandas DataFrame"
   ]
  },
  {
   "cell_type": "markdown",
   "metadata": {},
   "source": [
    "### syntax : DataFrame.drop(column_name,axis=,inplace=)\n",
    "\n",
    "- **column_name** - Here you can pass the single columns name or List of columns that you want to drop.\n",
    "- **axis** - you can pass axis=1 for columns or axis ='columns'\n",
    "- **inplace** - take boolen values True or False and is used for make change in existing dataframe"
   ]
  },
  {
   "cell_type": "code",
   "execution_count": 15,
   "metadata": {},
   "outputs": [
    {
     "data": {
      "text/html": [
       "<div>\n",
       "<style scoped>\n",
       "    .dataframe tbody tr th:only-of-type {\n",
       "        vertical-align: middle;\n",
       "    }\n",
       "\n",
       "    .dataframe tbody tr th {\n",
       "        vertical-align: top;\n",
       "    }\n",
       "\n",
       "    .dataframe thead th {\n",
       "        text-align: right;\n",
       "    }\n",
       "</style>\n",
       "<table border=\"1\" class=\"dataframe\">\n",
       "  <thead>\n",
       "    <tr style=\"text-align: right;\">\n",
       "      <th></th>\n",
       "      <th>Sr no</th>\n",
       "      <th>Coaching Center</th>\n",
       "      <th>Courses</th>\n",
       "      <th>State</th>\n",
       "      <th>Course Duration</th>\n",
       "      <th>Location</th>\n",
       "    </tr>\n",
       "  </thead>\n",
       "  <tbody>\n",
       "    <tr>\n",
       "      <th>0</th>\n",
       "      <td>1</td>\n",
       "      <td>PQR institute .Pvt</td>\n",
       "      <td>BI</td>\n",
       "      <td>MH</td>\n",
       "      <td>9 Months</td>\n",
       "      <td>Mumbai, MH</td>\n",
       "    </tr>\n",
       "    <tr>\n",
       "      <th>1</th>\n",
       "      <td>2</td>\n",
       "      <td>ABC institute .Pvt.LTD</td>\n",
       "      <td>AI</td>\n",
       "      <td>UP</td>\n",
       "      <td>18 Months</td>\n",
       "      <td>Delhi, UP</td>\n",
       "    </tr>\n",
       "    <tr>\n",
       "      <th>2</th>\n",
       "      <td>3</td>\n",
       "      <td>MNO  institute .Ltd</td>\n",
       "      <td>Data Science</td>\n",
       "      <td>TN</td>\n",
       "      <td>11 Months</td>\n",
       "      <td>Bengaluru, TN</td>\n",
       "    </tr>\n",
       "    <tr>\n",
       "      <th>3</th>\n",
       "      <td>4</td>\n",
       "      <td>RST  institute .Pvt.LTD</td>\n",
       "      <td>ML</td>\n",
       "      <td>MP</td>\n",
       "      <td>3 Months</td>\n",
       "      <td>Bhopal, MP</td>\n",
       "    </tr>\n",
       "    <tr>\n",
       "      <th>4</th>\n",
       "      <td>5</td>\n",
       "      <td>EFG  institute .Pvt.LTD</td>\n",
       "      <td>DL</td>\n",
       "      <td>MH</td>\n",
       "      <td>3 Months</td>\n",
       "      <td>Mumbai, MH</td>\n",
       "    </tr>\n",
       "  </tbody>\n",
       "</table>\n",
       "</div>"
      ],
      "text/plain": [
       "   Sr no          Coaching Center       Courses State Course Duration  \\\n",
       "0      1       PQR institute .Pvt            BI    MH        9 Months   \n",
       "1      2   ABC institute .Pvt.LTD            AI    UP       18 Months   \n",
       "2      3      MNO  institute .Ltd  Data Science    TN       11 Months   \n",
       "3      4  RST  institute .Pvt.LTD            ML    MP        3 Months   \n",
       "4      5  EFG  institute .Pvt.LTD            DL    MH        3 Months   \n",
       "\n",
       "        Location  \n",
       "0     Mumbai, MH  \n",
       "1      Delhi, UP  \n",
       "2  Bengaluru, TN  \n",
       "3     Bhopal, MP  \n",
       "4     Mumbai, MH  "
      ]
     },
     "execution_count": 15,
     "metadata": {},
     "output_type": "execute_result"
    }
   ],
   "source": [
    "df.drop('City',axis='columns').head()                         \n",
    "#if you dont use inplace parameter, the new change will not take place."
   ]
  },
  {
   "cell_type": "code",
   "execution_count": 16,
   "metadata": {},
   "outputs": [
    {
     "data": {
      "text/html": [
       "<div>\n",
       "<style scoped>\n",
       "    .dataframe tbody tr th:only-of-type {\n",
       "        vertical-align: middle;\n",
       "    }\n",
       "\n",
       "    .dataframe tbody tr th {\n",
       "        vertical-align: top;\n",
       "    }\n",
       "\n",
       "    .dataframe thead th {\n",
       "        text-align: right;\n",
       "    }\n",
       "</style>\n",
       "<table border=\"1\" class=\"dataframe\">\n",
       "  <thead>\n",
       "    <tr style=\"text-align: right;\">\n",
       "      <th></th>\n",
       "      <th>Sr no</th>\n",
       "      <th>City</th>\n",
       "      <th>Coaching Center</th>\n",
       "      <th>Courses</th>\n",
       "      <th>State</th>\n",
       "      <th>Course Duration</th>\n",
       "      <th>Location</th>\n",
       "    </tr>\n",
       "  </thead>\n",
       "  <tbody>\n",
       "    <tr>\n",
       "      <th>0</th>\n",
       "      <td>1</td>\n",
       "      <td>Mumbai</td>\n",
       "      <td>PQR institute .Pvt</td>\n",
       "      <td>BI</td>\n",
       "      <td>MH</td>\n",
       "      <td>9 Months</td>\n",
       "      <td>Mumbai, MH</td>\n",
       "    </tr>\n",
       "    <tr>\n",
       "      <th>1</th>\n",
       "      <td>2</td>\n",
       "      <td>Delhi</td>\n",
       "      <td>ABC institute .Pvt.LTD</td>\n",
       "      <td>AI</td>\n",
       "      <td>UP</td>\n",
       "      <td>18 Months</td>\n",
       "      <td>Delhi, UP</td>\n",
       "    </tr>\n",
       "    <tr>\n",
       "      <th>2</th>\n",
       "      <td>3</td>\n",
       "      <td>Bengaluru</td>\n",
       "      <td>MNO  institute .Ltd</td>\n",
       "      <td>Data Science</td>\n",
       "      <td>TN</td>\n",
       "      <td>11 Months</td>\n",
       "      <td>Bengaluru, TN</td>\n",
       "    </tr>\n",
       "    <tr>\n",
       "      <th>3</th>\n",
       "      <td>4</td>\n",
       "      <td>Bhopal</td>\n",
       "      <td>RST  institute .Pvt.LTD</td>\n",
       "      <td>ML</td>\n",
       "      <td>MP</td>\n",
       "      <td>3 Months</td>\n",
       "      <td>Bhopal, MP</td>\n",
       "    </tr>\n",
       "    <tr>\n",
       "      <th>4</th>\n",
       "      <td>5</td>\n",
       "      <td>Mumbai</td>\n",
       "      <td>EFG  institute .Pvt.LTD</td>\n",
       "      <td>DL</td>\n",
       "      <td>MH</td>\n",
       "      <td>3 Months</td>\n",
       "      <td>Mumbai, MH</td>\n",
       "    </tr>\n",
       "  </tbody>\n",
       "</table>\n",
       "</div>"
      ],
      "text/plain": [
       "   Sr no       City          Coaching Center       Courses State  \\\n",
       "0      1     Mumbai       PQR institute .Pvt            BI    MH   \n",
       "1      2      Delhi   ABC institute .Pvt.LTD            AI    UP   \n",
       "2      3  Bengaluru      MNO  institute .Ltd  Data Science    TN   \n",
       "3      4     Bhopal  RST  institute .Pvt.LTD            ML    MP   \n",
       "4      5     Mumbai  EFG  institute .Pvt.LTD            DL    MH   \n",
       "\n",
       "  Course Duration       Location  \n",
       "0        9 Months     Mumbai, MH  \n",
       "1       18 Months      Delhi, UP  \n",
       "2       11 Months  Bengaluru, TN  \n",
       "3        3 Months     Bhopal, MP  \n",
       "4        3 Months     Mumbai, MH  "
      ]
     },
     "execution_count": 16,
     "metadata": {},
     "output_type": "execute_result"
    }
   ],
   "source": [
    "df.head()"
   ]
  },
  {
   "cell_type": "code",
   "execution_count": 17,
   "metadata": {},
   "outputs": [
    {
     "data": {
      "text/html": [
       "<div>\n",
       "<style scoped>\n",
       "    .dataframe tbody tr th:only-of-type {\n",
       "        vertical-align: middle;\n",
       "    }\n",
       "\n",
       "    .dataframe tbody tr th {\n",
       "        vertical-align: top;\n",
       "    }\n",
       "\n",
       "    .dataframe thead th {\n",
       "        text-align: right;\n",
       "    }\n",
       "</style>\n",
       "<table border=\"1\" class=\"dataframe\">\n",
       "  <thead>\n",
       "    <tr style=\"text-align: right;\">\n",
       "      <th></th>\n",
       "      <th>Sr no</th>\n",
       "      <th>Coaching Center</th>\n",
       "      <th>Courses</th>\n",
       "      <th>State</th>\n",
       "      <th>Course Duration</th>\n",
       "      <th>Location</th>\n",
       "    </tr>\n",
       "  </thead>\n",
       "  <tbody>\n",
       "    <tr>\n",
       "      <th>0</th>\n",
       "      <td>1</td>\n",
       "      <td>PQR institute .Pvt</td>\n",
       "      <td>BI</td>\n",
       "      <td>MH</td>\n",
       "      <td>9 Months</td>\n",
       "      <td>Mumbai, MH</td>\n",
       "    </tr>\n",
       "    <tr>\n",
       "      <th>1</th>\n",
       "      <td>2</td>\n",
       "      <td>ABC institute .Pvt.LTD</td>\n",
       "      <td>AI</td>\n",
       "      <td>UP</td>\n",
       "      <td>18 Months</td>\n",
       "      <td>Delhi, UP</td>\n",
       "    </tr>\n",
       "    <tr>\n",
       "      <th>2</th>\n",
       "      <td>3</td>\n",
       "      <td>MNO  institute .Ltd</td>\n",
       "      <td>Data Science</td>\n",
       "      <td>TN</td>\n",
       "      <td>11 Months</td>\n",
       "      <td>Bengaluru, TN</td>\n",
       "    </tr>\n",
       "    <tr>\n",
       "      <th>3</th>\n",
       "      <td>4</td>\n",
       "      <td>RST  institute .Pvt.LTD</td>\n",
       "      <td>ML</td>\n",
       "      <td>MP</td>\n",
       "      <td>3 Months</td>\n",
       "      <td>Bhopal, MP</td>\n",
       "    </tr>\n",
       "    <tr>\n",
       "      <th>4</th>\n",
       "      <td>5</td>\n",
       "      <td>EFG  institute .Pvt.LTD</td>\n",
       "      <td>DL</td>\n",
       "      <td>MH</td>\n",
       "      <td>3 Months</td>\n",
       "      <td>Mumbai, MH</td>\n",
       "    </tr>\n",
       "  </tbody>\n",
       "</table>\n",
       "</div>"
      ],
      "text/plain": [
       "   Sr no          Coaching Center       Courses State Course Duration  \\\n",
       "0      1       PQR institute .Pvt            BI    MH        9 Months   \n",
       "1      2   ABC institute .Pvt.LTD            AI    UP       18 Months   \n",
       "2      3      MNO  institute .Ltd  Data Science    TN       11 Months   \n",
       "3      4  RST  institute .Pvt.LTD            ML    MP        3 Months   \n",
       "4      5  EFG  institute .Pvt.LTD            DL    MH        3 Months   \n",
       "\n",
       "        Location  \n",
       "0     Mumbai, MH  \n",
       "1      Delhi, UP  \n",
       "2  Bengaluru, TN  \n",
       "3     Bhopal, MP  \n",
       "4     Mumbai, MH  "
      ]
     },
     "execution_count": 17,
     "metadata": {},
     "output_type": "execute_result"
    }
   ],
   "source": [
    "#Deleting Single column\n",
    "df.drop('City',axis='columns',inplace=True)\n",
    "df.head()      "
   ]
  },
  {
   "cell_type": "code",
   "execution_count": 18,
   "metadata": {},
   "outputs": [
    {
     "data": {
      "text/html": [
       "<div>\n",
       "<style scoped>\n",
       "    .dataframe tbody tr th:only-of-type {\n",
       "        vertical-align: middle;\n",
       "    }\n",
       "\n",
       "    .dataframe tbody tr th {\n",
       "        vertical-align: top;\n",
       "    }\n",
       "\n",
       "    .dataframe thead th {\n",
       "        text-align: right;\n",
       "    }\n",
       "</style>\n",
       "<table border=\"1\" class=\"dataframe\">\n",
       "  <thead>\n",
       "    <tr style=\"text-align: right;\">\n",
       "      <th></th>\n",
       "      <th>Sr no</th>\n",
       "      <th>Coaching Center</th>\n",
       "      <th>Courses</th>\n",
       "      <th>Location</th>\n",
       "    </tr>\n",
       "  </thead>\n",
       "  <tbody>\n",
       "    <tr>\n",
       "      <th>0</th>\n",
       "      <td>1</td>\n",
       "      <td>PQR institute .Pvt</td>\n",
       "      <td>BI</td>\n",
       "      <td>Mumbai, MH</td>\n",
       "    </tr>\n",
       "    <tr>\n",
       "      <th>1</th>\n",
       "      <td>2</td>\n",
       "      <td>ABC institute .Pvt.LTD</td>\n",
       "      <td>AI</td>\n",
       "      <td>Delhi, UP</td>\n",
       "    </tr>\n",
       "    <tr>\n",
       "      <th>2</th>\n",
       "      <td>3</td>\n",
       "      <td>MNO  institute .Ltd</td>\n",
       "      <td>Data Science</td>\n",
       "      <td>Bengaluru, TN</td>\n",
       "    </tr>\n",
       "    <tr>\n",
       "      <th>3</th>\n",
       "      <td>4</td>\n",
       "      <td>RST  institute .Pvt.LTD</td>\n",
       "      <td>ML</td>\n",
       "      <td>Bhopal, MP</td>\n",
       "    </tr>\n",
       "    <tr>\n",
       "      <th>4</th>\n",
       "      <td>5</td>\n",
       "      <td>EFG  institute .Pvt.LTD</td>\n",
       "      <td>DL</td>\n",
       "      <td>Mumbai, MH</td>\n",
       "    </tr>\n",
       "  </tbody>\n",
       "</table>\n",
       "</div>"
      ],
      "text/plain": [
       "   Sr no          Coaching Center       Courses       Location\n",
       "0      1       PQR institute .Pvt            BI     Mumbai, MH\n",
       "1      2   ABC institute .Pvt.LTD            AI      Delhi, UP\n",
       "2      3      MNO  institute .Ltd  Data Science  Bengaluru, TN\n",
       "3      4  RST  institute .Pvt.LTD            ML     Bhopal, MP\n",
       "4      5  EFG  institute .Pvt.LTD            DL     Mumbai, MH"
      ]
     },
     "execution_count": 18,
     "metadata": {},
     "output_type": "execute_result"
    }
   ],
   "source": [
    "#Deleting Multiple columns.\n",
    "df.drop(['State','Course Duration'],axis='columns',inplace=True) # you can pass as many columns you want in the list\n",
    "df.head()      "
   ]
  },
  {
   "cell_type": "markdown",
   "metadata": {},
   "source": [
    "#### But remember these changes we are making on our dataframe, your orignal dataset will get affected by any change we make here."
   ]
  },
  {
   "cell_type": "markdown",
   "metadata": {},
   "source": [
    "#### Let's once again import our dataset"
   ]
  },
  {
   "cell_type": "code",
   "execution_count": 57,
   "metadata": {},
   "outputs": [
    {
     "data": {
      "text/html": [
       "<div>\n",
       "<style scoped>\n",
       "    .dataframe tbody tr th:only-of-type {\n",
       "        vertical-align: middle;\n",
       "    }\n",
       "\n",
       "    .dataframe tbody tr th {\n",
       "        vertical-align: top;\n",
       "    }\n",
       "\n",
       "    .dataframe thead th {\n",
       "        text-align: right;\n",
       "    }\n",
       "</style>\n",
       "<table border=\"1\" class=\"dataframe\">\n",
       "  <thead>\n",
       "    <tr style=\"text-align: right;\">\n",
       "      <th></th>\n",
       "      <th>1</th>\n",
       "      <th>Mumbai</th>\n",
       "      <th>PQR institute .Pvt</th>\n",
       "      <th>BI</th>\n",
       "      <th>MH</th>\n",
       "      <th>9 Months</th>\n",
       "    </tr>\n",
       "  </thead>\n",
       "  <tbody>\n",
       "    <tr>\n",
       "      <th>0</th>\n",
       "      <td>2</td>\n",
       "      <td>Delhi</td>\n",
       "      <td>ABC institute .Pvt.LTD</td>\n",
       "      <td>AI</td>\n",
       "      <td>UP</td>\n",
       "      <td>18 Months</td>\n",
       "    </tr>\n",
       "    <tr>\n",
       "      <th>1</th>\n",
       "      <td>3</td>\n",
       "      <td>Bengaluru</td>\n",
       "      <td>MNO  institute .Ltd</td>\n",
       "      <td>Data Science</td>\n",
       "      <td>TN</td>\n",
       "      <td>11 Months</td>\n",
       "    </tr>\n",
       "    <tr>\n",
       "      <th>2</th>\n",
       "      <td>4</td>\n",
       "      <td>Bhopal</td>\n",
       "      <td>RST  institute .Pvt.LTD</td>\n",
       "      <td>ML</td>\n",
       "      <td>MP</td>\n",
       "      <td>3 Months</td>\n",
       "    </tr>\n",
       "    <tr>\n",
       "      <th>3</th>\n",
       "      <td>5</td>\n",
       "      <td>Mumbai</td>\n",
       "      <td>EFG  institute .Pvt.LTD</td>\n",
       "      <td>DL</td>\n",
       "      <td>MH</td>\n",
       "      <td>3 Months</td>\n",
       "    </tr>\n",
       "    <tr>\n",
       "      <th>4</th>\n",
       "      <td>6</td>\n",
       "      <td>Hyderabad</td>\n",
       "      <td>LMN  institute</td>\n",
       "      <td>Could</td>\n",
       "      <td>AP</td>\n",
       "      <td>4 Months</td>\n",
       "    </tr>\n",
       "  </tbody>\n",
       "</table>\n",
       "</div>"
      ],
      "text/plain": [
       "   1     Mumbai       PQR institute .Pvt            BI  MH   9 Months\n",
       "0  2      Delhi   ABC institute .Pvt.LTD            AI  UP  18 Months\n",
       "1  3  Bengaluru      MNO  institute .Ltd  Data Science  TN  11 Months\n",
       "2  4     Bhopal  RST  institute .Pvt.LTD            ML  MP   3 Months\n",
       "3  5     Mumbai  EFG  institute .Pvt.LTD            DL  MH   3 Months\n",
       "4  6  Hyderabad          LMN  institute          Could  AP   4 Months"
      ]
     },
     "execution_count": 57,
     "metadata": {},
     "output_type": "execute_result"
    }
   ],
   "source": [
    "df = pd.read_csv('Datasets/course.csv')\n",
    "df.head()"
   ]
  },
  {
   "cell_type": "markdown",
   "metadata": {},
   "source": [
    "#### As you can see, there is no change made here, there is still no header we had created, no location column that we added in our dataframe, also we can see the city,state and course duration column which we had just deleted"
   ]
  },
  {
   "cell_type": "markdown",
   "metadata": {},
   "source": [
    "## e.Seting new Index\n",
    "\n",
    "**Syntax**:  DataFrame.set_index('new_index',inplace=True)"
   ]
  },
  {
   "cell_type": "markdown",
   "metadata": {},
   "source": [
    "#### Before that let's first assign our header,"
   ]
  },
  {
   "cell_type": "code",
   "execution_count": 67,
   "metadata": {},
   "outputs": [
    {
     "data": {
      "text/html": [
       "<div>\n",
       "<style scoped>\n",
       "    .dataframe tbody tr th:only-of-type {\n",
       "        vertical-align: middle;\n",
       "    }\n",
       "\n",
       "    .dataframe tbody tr th {\n",
       "        vertical-align: top;\n",
       "    }\n",
       "\n",
       "    .dataframe thead th {\n",
       "        text-align: right;\n",
       "    }\n",
       "</style>\n",
       "<table border=\"1\" class=\"dataframe\">\n",
       "  <thead>\n",
       "    <tr style=\"text-align: right;\">\n",
       "      <th></th>\n",
       "      <th>Sr no</th>\n",
       "      <th>City</th>\n",
       "      <th>Coaching Center</th>\n",
       "      <th>Courses</th>\n",
       "      <th>State</th>\n",
       "      <th>Course Duration</th>\n",
       "    </tr>\n",
       "  </thead>\n",
       "  <tbody>\n",
       "    <tr>\n",
       "      <th>0</th>\n",
       "      <td>1</td>\n",
       "      <td>Mumbai</td>\n",
       "      <td>PQR institute .Pvt</td>\n",
       "      <td>BI</td>\n",
       "      <td>MH</td>\n",
       "      <td>9 Months</td>\n",
       "    </tr>\n",
       "    <tr>\n",
       "      <th>1</th>\n",
       "      <td>2</td>\n",
       "      <td>Delhi</td>\n",
       "      <td>ABC institute .Pvt.LTD</td>\n",
       "      <td>AI</td>\n",
       "      <td>UP</td>\n",
       "      <td>18 Months</td>\n",
       "    </tr>\n",
       "    <tr>\n",
       "      <th>2</th>\n",
       "      <td>3</td>\n",
       "      <td>Bengaluru</td>\n",
       "      <td>MNO  institute .Ltd</td>\n",
       "      <td>Data Science</td>\n",
       "      <td>TN</td>\n",
       "      <td>11 Months</td>\n",
       "    </tr>\n",
       "    <tr>\n",
       "      <th>3</th>\n",
       "      <td>4</td>\n",
       "      <td>Bhopal</td>\n",
       "      <td>RST  institute .Pvt.LTD</td>\n",
       "      <td>ML</td>\n",
       "      <td>MP</td>\n",
       "      <td>3 Months</td>\n",
       "    </tr>\n",
       "    <tr>\n",
       "      <th>4</th>\n",
       "      <td>5</td>\n",
       "      <td>Mumbai</td>\n",
       "      <td>EFG  institute .Pvt.LTD</td>\n",
       "      <td>DL</td>\n",
       "      <td>MH</td>\n",
       "      <td>3 Months</td>\n",
       "    </tr>\n",
       "  </tbody>\n",
       "</table>\n",
       "</div>"
      ],
      "text/plain": [
       "   Sr no       City          Coaching Center       Courses State  \\\n",
       "0      1     Mumbai       PQR institute .Pvt            BI    MH   \n",
       "1      2      Delhi   ABC institute .Pvt.LTD            AI    UP   \n",
       "2      3  Bengaluru      MNO  institute .Ltd  Data Science    TN   \n",
       "3      4     Bhopal  RST  institute .Pvt.LTD            ML    MP   \n",
       "4      5     Mumbai  EFG  institute .Pvt.LTD            DL    MH   \n",
       "\n",
       "  Course Duration  \n",
       "0        9 Months  \n",
       "1       18 Months  \n",
       "2       11 Months  \n",
       "3        3 Months  \n",
       "4        3 Months  "
      ]
     },
     "execution_count": 67,
     "metadata": {},
     "output_type": "execute_result"
    }
   ],
   "source": [
    "header = ['Sr no','City','Coaching Center','Courses','State','Course Duration']\n",
    "df = pd.read_csv('Datasets/course.csv',header=None,names=header)\n",
    "df.head()"
   ]
  },
  {
   "cell_type": "markdown",
   "metadata": {},
   "source": [
    "### Let's make courses column our new index."
   ]
  },
  {
   "cell_type": "code",
   "execution_count": 68,
   "metadata": {},
   "outputs": [],
   "source": [
    "df.set_index('Courses',inplace=True)"
   ]
  },
  {
   "cell_type": "code",
   "execution_count": 69,
   "metadata": {},
   "outputs": [
    {
     "data": {
      "text/html": [
       "<div>\n",
       "<style scoped>\n",
       "    .dataframe tbody tr th:only-of-type {\n",
       "        vertical-align: middle;\n",
       "    }\n",
       "\n",
       "    .dataframe tbody tr th {\n",
       "        vertical-align: top;\n",
       "    }\n",
       "\n",
       "    .dataframe thead th {\n",
       "        text-align: right;\n",
       "    }\n",
       "</style>\n",
       "<table border=\"1\" class=\"dataframe\">\n",
       "  <thead>\n",
       "    <tr style=\"text-align: right;\">\n",
       "      <th></th>\n",
       "      <th>Sr no</th>\n",
       "      <th>City</th>\n",
       "      <th>Coaching Center</th>\n",
       "      <th>State</th>\n",
       "      <th>Course Duration</th>\n",
       "    </tr>\n",
       "    <tr>\n",
       "      <th>Courses</th>\n",
       "      <th></th>\n",
       "      <th></th>\n",
       "      <th></th>\n",
       "      <th></th>\n",
       "      <th></th>\n",
       "    </tr>\n",
       "  </thead>\n",
       "  <tbody>\n",
       "    <tr>\n",
       "      <th>BI</th>\n",
       "      <td>1</td>\n",
       "      <td>Mumbai</td>\n",
       "      <td>PQR institute .Pvt</td>\n",
       "      <td>MH</td>\n",
       "      <td>9 Months</td>\n",
       "    </tr>\n",
       "    <tr>\n",
       "      <th>AI</th>\n",
       "      <td>2</td>\n",
       "      <td>Delhi</td>\n",
       "      <td>ABC institute .Pvt.LTD</td>\n",
       "      <td>UP</td>\n",
       "      <td>18 Months</td>\n",
       "    </tr>\n",
       "    <tr>\n",
       "      <th>Data Science</th>\n",
       "      <td>3</td>\n",
       "      <td>Bengaluru</td>\n",
       "      <td>MNO  institute .Ltd</td>\n",
       "      <td>TN</td>\n",
       "      <td>11 Months</td>\n",
       "    </tr>\n",
       "    <tr>\n",
       "      <th>ML</th>\n",
       "      <td>4</td>\n",
       "      <td>Bhopal</td>\n",
       "      <td>RST  institute .Pvt.LTD</td>\n",
       "      <td>MP</td>\n",
       "      <td>3 Months</td>\n",
       "    </tr>\n",
       "    <tr>\n",
       "      <th>DL</th>\n",
       "      <td>5</td>\n",
       "      <td>Mumbai</td>\n",
       "      <td>EFG  institute .Pvt.LTD</td>\n",
       "      <td>MH</td>\n",
       "      <td>3 Months</td>\n",
       "    </tr>\n",
       "  </tbody>\n",
       "</table>\n",
       "</div>"
      ],
      "text/plain": [
       "              Sr no       City          Coaching Center State Course Duration\n",
       "Courses                                                                      \n",
       "BI                1     Mumbai       PQR institute .Pvt    MH        9 Months\n",
       "AI                2      Delhi   ABC institute .Pvt.LTD    UP       18 Months\n",
       "Data Science      3  Bengaluru      MNO  institute .Ltd    TN       11 Months\n",
       "ML                4     Bhopal  RST  institute .Pvt.LTD    MP        3 Months\n",
       "DL                5     Mumbai  EFG  institute .Pvt.LTD    MH        3 Months"
      ]
     },
     "execution_count": 69,
     "metadata": {},
     "output_type": "execute_result"
    }
   ],
   "source": [
    "df.head()"
   ]
  },
  {
   "cell_type": "markdown",
   "metadata": {},
   "source": [
    "#### Now courses column become our new index."
   ]
  },
  {
   "cell_type": "markdown",
   "metadata": {},
   "source": [
    "## Reseting the index\n",
    "**Syntax**:\n",
    "- DataFrame.index.name = 'current index name'\n",
    "- DataFrame.reset_index(inplace=True)"
   ]
  },
  {
   "cell_type": "code",
   "execution_count": 70,
   "metadata": {},
   "outputs": [
    {
     "data": {
      "text/html": [
       "<div>\n",
       "<style scoped>\n",
       "    .dataframe tbody tr th:only-of-type {\n",
       "        vertical-align: middle;\n",
       "    }\n",
       "\n",
       "    .dataframe tbody tr th {\n",
       "        vertical-align: top;\n",
       "    }\n",
       "\n",
       "    .dataframe thead th {\n",
       "        text-align: right;\n",
       "    }\n",
       "</style>\n",
       "<table border=\"1\" class=\"dataframe\">\n",
       "  <thead>\n",
       "    <tr style=\"text-align: right;\">\n",
       "      <th></th>\n",
       "      <th>Courses</th>\n",
       "      <th>Sr no</th>\n",
       "      <th>City</th>\n",
       "      <th>Coaching Center</th>\n",
       "      <th>State</th>\n",
       "      <th>Course Duration</th>\n",
       "    </tr>\n",
       "  </thead>\n",
       "  <tbody>\n",
       "    <tr>\n",
       "      <th>0</th>\n",
       "      <td>BI</td>\n",
       "      <td>1</td>\n",
       "      <td>Mumbai</td>\n",
       "      <td>PQR institute .Pvt</td>\n",
       "      <td>MH</td>\n",
       "      <td>9 Months</td>\n",
       "    </tr>\n",
       "    <tr>\n",
       "      <th>1</th>\n",
       "      <td>AI</td>\n",
       "      <td>2</td>\n",
       "      <td>Delhi</td>\n",
       "      <td>ABC institute .Pvt.LTD</td>\n",
       "      <td>UP</td>\n",
       "      <td>18 Months</td>\n",
       "    </tr>\n",
       "    <tr>\n",
       "      <th>2</th>\n",
       "      <td>Data Science</td>\n",
       "      <td>3</td>\n",
       "      <td>Bengaluru</td>\n",
       "      <td>MNO  institute .Ltd</td>\n",
       "      <td>TN</td>\n",
       "      <td>11 Months</td>\n",
       "    </tr>\n",
       "    <tr>\n",
       "      <th>3</th>\n",
       "      <td>ML</td>\n",
       "      <td>4</td>\n",
       "      <td>Bhopal</td>\n",
       "      <td>RST  institute .Pvt.LTD</td>\n",
       "      <td>MP</td>\n",
       "      <td>3 Months</td>\n",
       "    </tr>\n",
       "    <tr>\n",
       "      <th>4</th>\n",
       "      <td>DL</td>\n",
       "      <td>5</td>\n",
       "      <td>Mumbai</td>\n",
       "      <td>EFG  institute .Pvt.LTD</td>\n",
       "      <td>MH</td>\n",
       "      <td>3 Months</td>\n",
       "    </tr>\n",
       "  </tbody>\n",
       "</table>\n",
       "</div>"
      ],
      "text/plain": [
       "        Courses  Sr no       City          Coaching Center State  \\\n",
       "0            BI      1     Mumbai       PQR institute .Pvt    MH   \n",
       "1            AI      2      Delhi   ABC institute .Pvt.LTD    UP   \n",
       "2  Data Science      3  Bengaluru      MNO  institute .Ltd    TN   \n",
       "3            ML      4     Bhopal  RST  institute .Pvt.LTD    MP   \n",
       "4            DL      5     Mumbai  EFG  institute .Pvt.LTD    MH   \n",
       "\n",
       "  Course Duration  \n",
       "0        9 Months  \n",
       "1       18 Months  \n",
       "2       11 Months  \n",
       "3        3 Months  \n",
       "4        3 Months  "
      ]
     },
     "execution_count": 70,
     "metadata": {},
     "output_type": "execute_result"
    }
   ],
   "source": [
    "df.index.name='Courses'\n",
    "df.reset_index(inplace=True)\n",
    "df.head()"
   ]
  },
  {
   "cell_type": "markdown",
   "metadata": {},
   "source": [
    "### This will change the index back to normal but, set previous index as first column"
   ]
  },
  {
   "cell_type": "markdown",
   "metadata": {},
   "source": [
    "### One More thing although we are dealing with DataFrame here, but we should keep this thing in our mind that, every single row in a dataframe and every single column in a dataframe is just Series.\n",
    "\n",
    "so, if we can select City column from a datafram df, that's just mean \n",
    "select a series named city from the datafram df."
   ]
  },
  {
   "cell_type": "code",
   "execution_count": 72,
   "metadata": {},
   "outputs": [
    {
     "data": {
      "text/plain": [
       "pandas.core.frame.DataFrame"
      ]
     },
     "execution_count": 72,
     "metadata": {},
     "output_type": "execute_result"
    }
   ],
   "source": [
    "type(df)  # df variable is for sure a DataFrame data-structure but,"
   ]
  },
  {
   "cell_type": "code",
   "execution_count": 73,
   "metadata": {},
   "outputs": [
    {
     "data": {
      "text/plain": [
       "pandas.core.series.Series"
      ]
     },
     "execution_count": 73,
     "metadata": {},
     "output_type": "execute_result"
    }
   ],
   "source": [
    "type(df.City) #df.City or the City column is a Series data-Structure"
   ]
  }
 ],
 "metadata": {
  "kernelspec": {
   "display_name": "Python 3",
   "language": "python",
   "name": "python3"
  },
  "language_info": {
   "codemirror_mode": {
    "name": "ipython",
    "version": 3
   },
   "file_extension": ".py",
   "mimetype": "text/x-python",
   "name": "python",
   "nbconvert_exporter": "python",
   "pygments_lexer": "ipython3",
   "version": "3.8.5"
  }
 },
 "nbformat": 4,
 "nbformat_minor": 4
}
