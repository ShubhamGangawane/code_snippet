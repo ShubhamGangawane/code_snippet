{
 "cells": [
  {
   "cell_type": "markdown",
   "metadata": {},
   "source": [
    "# Divisibility"
   ]
  },
  {
   "cell_type": "markdown",
   "metadata": {},
   "source": [
    "→ A number is exactly divisible by some other number if it gives 0 as remainder. To check if a number is exactly divisible by some number we need to test if it leaves 0 as remainder or not.\n",
    "\n",
    "→ In Programming, We a modulo operator %, that evaluates remainder on division of two operands. You can use this to check if a number is exactly divisible by some number or not. \n",
    "\n",
    "→ For example - if(8 % 2), if the given expression evaluates 0, then 8 is exactly divisible by 2.\n",
    "\n"
   ]
  },
  {
   "cell_type": "markdown",
   "metadata": {},
   "source": [
    "### Step by step descriptive logic to check whether a number is divisible by 5 and 11 or not.\n",
    "\n"
   ]
  },
  {
   "cell_type": "markdown",
   "metadata": {},
   "source": [
    "→ Input a number from user. Store it in some variable say num.\n",
    "\n",
    "→ To check divisibility with 5, \n",
    "check if(num % 5 == 0) then num is divisible by 5.\n",
    "\n",
    "→ To check divisibility with 11, \n",
    "check if(num % 11 == 0) then num is divisible by 11.\n",
    "\n",
    "→ Now combine the above two conditions using logical AND operator.\n",
    "\n",
    "→ To check divisibility with 5 and 11 both,\n",
    "check if((num % 5 == 0) and (num % 11 == 0)), \n",
    "\n",
    "then number is divisible by both 5 and 11.\n",
    "\n",
    "\n"
   ]
  },
  {
   "cell_type": "markdown",
   "metadata": {},
   "source": [
    "### Write an algorithm to check weather the number is even or odd\n"
   ]
  },
  {
   "cell_type": "markdown",
   "metadata": {},
   "source": [
    "- N div by 2 --> Even "
   ]
  },
  {
   "cell_type": "code",
   "execution_count": 1,
   "metadata": {},
   "outputs": [
    {
     "name": "stdout",
     "output_type": "stream",
     "text": [
      "Enter a number-: 56\n",
      "56 is even no\n"
     ]
    }
   ],
   "source": [
    "n=int(input(\"Enter a number-: \"))\n",
    "\n",
    "if(n%2==0):\n",
    "    print(f\"{n} is even no\")\n",
    "else:\n",
    "    print(f\"{n} is odd no\")"
   ]
  },
  {
   "cell_type": "markdown",
   "metadata": {},
   "source": [
    "![title](eo.png)"
   ]
  },
  {
   "cell_type": "markdown",
   "metadata": {},
   "source": [
    "### WAP to check weather the year is leap or not\n",
    "\n",
    "- N div by 400 → leap year\n",
    "- N div by 4 , N not div by 100 → leap\n"
   ]
  },
  {
   "cell_type": "code",
   "execution_count": 2,
   "metadata": {},
   "outputs": [
    {
     "name": "stdout",
     "output_type": "stream",
     "text": [
      "Enter Year-: 2020\n",
      "2020 is leap year\n"
     ]
    }
   ],
   "source": [
    "n = int(input('Enter Year-: '))\n",
    "\n",
    "if((n%400==0) or (n%4==0 and n%100!=0)):\n",
    "    print(f\"{n} is leap year\")\n",
    "else:\n",
    "    print(f\"{n} is not a leap year\")"
   ]
  },
  {
   "cell_type": "markdown",
   "metadata": {},
   "source": [
    "![title](lp.png)"
   ]
  },
  {
   "cell_type": "code",
   "execution_count": 3,
   "metadata": {},
   "outputs": [
    {
     "name": "stdout",
     "output_type": "stream",
     "text": [
      "Enter Year-: 2021\n",
      "2021 is not a leap year\n"
     ]
    }
   ],
   "source": [
    "n = int(input('Enter Year-: '))\n",
    "\n",
    "if(n%400==0):\n",
    "    print(f\"{n} is leap year\")\n",
    "elif(n%4==0 and n%100!=0):\n",
    "    print(f\"{n} is leap year\")\n",
    "else:\n",
    "    print(f\"{n} is not a leap year\")"
   ]
  },
  {
   "cell_type": "markdown",
   "metadata": {},
   "source": [
    "![title](ly2.png)"
   ]
  },
  {
   "cell_type": "code",
   "execution_count": 4,
   "metadata": {},
   "outputs": [
    {
     "name": "stdout",
     "output_type": "stream",
     "text": [
      "Enter Year-: 2020\n",
      "2020 is a leap year\n"
     ]
    }
   ],
   "source": [
    "n = int(input('Enter Year-: '))\n",
    "\n",
    "if(n%4==0):\n",
    "    if(n%100==0):\n",
    "        if(n%400==0):\n",
    "            print(f\"{n} is a leap year\")\n",
    "        else:\n",
    "            print(f\"{n} is not leap year\")\n",
    "    else:\n",
    "        print(f\"{n} is a leap year\")\n",
    "else:\n",
    "    print(f\"{n} is not leap year\")\n",
    "    \n",
    "\n",
    "        "
   ]
  },
  {
   "cell_type": "markdown",
   "metadata": {},
   "source": [
    "![title](ly3.png)"
   ]
  }
 ],
 "metadata": {
  "kernelspec": {
   "display_name": "Python 3",
   "language": "python",
   "name": "python3"
  },
  "language_info": {
   "codemirror_mode": {
    "name": "ipython",
    "version": 3
   },
   "file_extension": ".py",
   "mimetype": "text/x-python",
   "name": "python",
   "nbconvert_exporter": "python",
   "pygments_lexer": "ipython3",
   "version": "3.8.5"
  }
 },
 "nbformat": 4,
 "nbformat_minor": 4
}
