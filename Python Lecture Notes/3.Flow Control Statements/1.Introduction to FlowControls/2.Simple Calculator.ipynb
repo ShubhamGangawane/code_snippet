{
 "cells": [
  {
   "cell_type": "markdown",
   "metadata": {},
   "source": [
    "# Program for a Calculator"
   ]
  },
  {
   "cell_type": "code",
   "execution_count": 2,
   "metadata": {},
   "outputs": [
    {
     "name": "stdout",
     "output_type": "stream",
     "text": [
      "Enter 2 numbers: 7 3\n",
      "7 + 3 = 10\n",
      "7 - 3 = 4\n",
      "7 * 3 = 21\n",
      "7 / 3 = 2.3333333333333335\n",
      "7 % 3 = 1\n",
      "7 // 3 = 2\n",
      "7 ** 3 = 343\n"
     ]
    }
   ],
   "source": [
    "num1, num2 = input(\"Enter 2 numbers: \").split()     #multiple assignment\n",
    "num1 = int(num1)\n",
    "num2 = int(num2)\n",
    "\n",
    "\n",
    "\n",
    "print(f\"{num1} + {num2} = {num1+num2}\")\n",
    "print(f\"{num1} - {num2} = {num1-num2}\")\n",
    "print(f\"{num1} * {num2} = {num1*num2}\")\n",
    "print(f\"{num1} / {num2} = {num1/num2}\")\n",
    "print(f\"{num1} % {num2} = {num1%num2}\")\n",
    "print(f\"{num1} // {num2} = {num1//num2}\")\n",
    "print(f\"{num1} ** {num2} = {num1**num2}\")\n"
   ]
  }
 ],
 "metadata": {
  "kernelspec": {
   "display_name": "Python 3",
   "language": "python",
   "name": "python3"
  },
  "language_info": {
   "codemirror_mode": {
    "name": "ipython",
    "version": 3
   },
   "file_extension": ".py",
   "mimetype": "text/x-python",
   "name": "python",
   "nbconvert_exporter": "python",
   "pygments_lexer": "ipython3",
   "version": "3.8.5"
  }
 },
 "nbformat": 4,
 "nbformat_minor": 4
}
