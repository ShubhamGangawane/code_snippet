{
 "cells": [
  {
   "cell_type": "markdown",
   "metadata": {},
   "source": [
    "# FlowControl - If-elif-else Statement"
   ]
  },
  {
   "cell_type": "markdown",
   "metadata": {},
   "source": [
    "### **If-elif-else Statement:**\n",
    "- So with ' if ' and ' else ' statement one or two blocks are executed but, you might have many possible block to execute , then ' elif ' statement is used i.e \" else if \" statement .\n",
    "- It allows you to add as many condition as you need to check .\n"
   ]
  },
  {
   "cell_type": "markdown",
   "metadata": {},
   "source": [
    "**Syntax:**\n",
    "- if(conditionA):\n",
    "  - Statment1\n",
    "- elif(conditionB):\n",
    "   - Statement2\n",
    "- elif(conditionC):\n",
    "   - Statement3\n",
    "- else:\n",
    "   - Statment4\n"
   ]
  },
  {
   "cell_type": "code",
   "execution_count": 1,
   "metadata": {},
   "outputs": [
    {
     "name": "stdout",
     "output_type": "stream",
     "text": [
      "Enter your mark -: 42\n",
      "C Grade\n"
     ]
    }
   ],
   "source": [
    "#program for marks to grade\n",
    "'''\n",
    "    75 & above -: A grade\n",
    "    60-74      -: B grade \n",
    "    35-59      -: C grade\n",
    "    Below 35   -: Fail\n",
    "'''\n",
    "\n",
    "mark = int(input('Enter your mark -: '))\n",
    "\n",
    "if(mark>=75):\n",
    "    print(\"A Grade\")\n",
    "elif(60<=mark and mark<=74):\n",
    "    print('B Grade')\n",
    "elif(35<=mark and mark<=59):\n",
    "    print('C Grade')\n",
    "else:\n",
    "    print('Fail')\n"
   ]
  },
  {
   "cell_type": "markdown",
   "metadata": {},
   "source": [
    "![title](5.png)"
   ]
  },
  {
   "cell_type": "code",
   "execution_count": 2,
   "metadata": {},
   "outputs": [
    {
     "name": "stdout",
     "output_type": "stream",
     "text": [
      "Enter your name:MRITYUNJAY\n",
      "No Match found.\n",
      "Please sign up into database. \n"
     ]
    }
   ],
   "source": [
    "#Program on If-else Statement.   Case1\n",
    "\n",
    "name=input(\"Enter your name:\")\n",
    "if name.lower() =='micky':\n",
    "    print(\"whatsup Micky!!!\")\n",
    "elif name.lower() == 'deepak':\n",
    "    print(\"hi Deepak!!!\")\n",
    "elif name.lower() == 'rohit':\n",
    "    print(\"hello Rohit !!!\")\n",
    "else:\n",
    "    print(\"No Match found.\\nPlease sign up into database. \")\n"
   ]
  },
  {
   "cell_type": "code",
   "execution_count": 3,
   "metadata": {},
   "outputs": [
    {
     "name": "stdout",
     "output_type": "stream",
     "text": [
      "Enter your name:MICKY\n",
      "whatsup Micky!!!\n"
     ]
    }
   ],
   "source": [
    "#Program on If-else Statement.   Case2\n",
    "\n",
    "name=input(\"Enter your name:\")\n",
    "if name.lower() =='micky':\n",
    "    print(\"whatsup Micky!!!\")\n",
    "elif name.lower() == 'deepak':\n",
    "    print(\"hi Deepak!!!\")\n",
    "elif name.lower() == 'rohit':\n",
    "    print(\"hello Rohit !!!\")\n",
    "else:\n",
    "    print(\"No Match found.\\nPlease sign up into database. \")\n"
   ]
  },
  {
   "cell_type": "code",
   "execution_count": 4,
   "metadata": {},
   "outputs": [
    {
     "name": "stdout",
     "output_type": "stream",
     "text": [
      "Your balance is 9450\n",
      "Enter withdraw ammout:50\n",
      "You cannot withdraw less than 100\n"
     ]
    }
   ],
   "source": [
    "#Program for atm Transaction\n",
    "\n",
    "print(\"Your balance is 9450\")\n",
    "withdrawl=int(input(\"Enter withdraw ammout:\"))\n",
    "if withdrawl > 9450:\n",
    "    print(\"You dont have sufficent balance to withdraw.\")\n",
    "elif  100 < withdrawl < 9450:\n",
    "    print(\"Thankyou , for visiting have a great day\")\n",
    "elif withdrawl < 100:\n",
    "    print(\"You cannot withdraw less than 100\")\n",
    "else:\n",
    "    print(\"Out of Money\")   \n",
    "   \n"
   ]
  },
  {
   "cell_type": "code",
   "execution_count": null,
   "metadata": {},
   "outputs": [],
   "source": []
  }
 ],
 "metadata": {
  "kernelspec": {
   "display_name": "Python 3",
   "language": "python",
   "name": "python3"
  },
  "language_info": {
   "codemirror_mode": {
    "name": "ipython",
    "version": 3
   },
   "file_extension": ".py",
   "mimetype": "text/x-python",
   "name": "python",
   "nbconvert_exporter": "python",
   "pygments_lexer": "ipython3",
   "version": "3.8.5"
  }
 },
 "nbformat": 4,
 "nbformat_minor": 4
}
