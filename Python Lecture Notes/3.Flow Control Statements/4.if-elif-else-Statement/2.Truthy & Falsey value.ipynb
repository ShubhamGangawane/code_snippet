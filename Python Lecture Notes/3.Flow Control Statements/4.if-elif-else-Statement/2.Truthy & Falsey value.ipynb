{
 "cells": [
  {
   "cell_type": "markdown",
   "metadata": {},
   "source": [
    "# Program For Calculator with if-elif-else. "
   ]
  },
  {
   "cell_type": "code",
   "execution_count": 1,
   "metadata": {},
   "outputs": [
    {
     "name": "stdout",
     "output_type": "stream",
     "text": [
      "Enter 2 numbers: 3 7\n",
      "Enter operator:+\n",
      "3 + 7 = 10\n"
     ]
    }
   ],
   "source": [
    "a, b = input(\"Enter 2 numbers: \").split()\n",
    "a = int(a)\n",
    "b = int(b)\n",
    "o = input(\"Enter operator:\").strip()\n",
    "\n",
    "if (o == '+'):\n",
    "    print(f\"{a} + {b} = {a+b}\")\n",
    "elif (o == '-'):\n",
    "    print(f\"{a} - {b} = {a-b}\")\n",
    "elif (o == '*'):\n",
    "    print(f\"{a} * {b} = {a*b}\")\n",
    "elif (o == '/'):\n",
    "    print(f\"{a} / {b} = {a/b}\")\n",
    "elif (o == '//'):\n",
    "    print(f\"{a} // {b} = {a//b}\")\n",
    "elif (o == '%'):\n",
    "    print(f\"{a} % {b} = {a%b}\")\n",
    "elif (o == '**'):\n",
    "    print(f\"{a} ** {b} = {a**b}\")\n",
    "else:\n",
    "    print(\"Such operator does not exist.\")\n"
   ]
  },
  {
   "cell_type": "markdown",
   "metadata": {},
   "source": [
    "#### Try the above code with different operators."
   ]
  },
  {
   "cell_type": "markdown",
   "metadata": {},
   "source": [
    "# Program for truthy or false value."
   ]
  },
  {
   "cell_type": "code",
   "execution_count": 2,
   "metadata": {},
   "outputs": [
    {
     "name": "stdout",
     "output_type": "stream",
     "text": [
      "Enter your name:-\n",
      "\n",
      "You did not entered your name.\n"
     ]
    }
   ],
   "source": [
    "#CASE1 \n",
    "\n",
    "print(\"Enter your name:-\")\n",
    "name = input()\n",
    "if name:\n",
    "    print(\"hi...\"+name+\",\"\"\\nThank you for entering your name.\")\n",
    "else:\n",
    "    print(\"You did not entered your name.\")\n"
   ]
  },
  {
   "cell_type": "code",
   "execution_count": 3,
   "metadata": {},
   "outputs": [
    {
     "name": "stdout",
     "output_type": "stream",
     "text": [
      "Enter your name:-\n",
      "JAY\n",
      "hi...JAY,\n",
      "Thank you for entering your name.\n"
     ]
    }
   ],
   "source": [
    "#CASE2\n",
    "\n",
    "print(\"Enter your name:-\")\n",
    "name = input()\n",
    "if name:\n",
    "    print(\"hi...\"+name+\",\"\"\\nThank you for entering your name.\")\n",
    "else:\n",
    "    print(\"You did not entered your name.\")\n"
   ]
  },
  {
   "cell_type": "markdown",
   "metadata": {},
   "source": [
    "white space or empty string is always considers as  false value \n",
    "and any character if entered it is truthy value since the variable holds atleats something it int"
   ]
  }
 ],
 "metadata": {
  "kernelspec": {
   "display_name": "Python 3",
   "language": "python",
   "name": "python3"
  },
  "language_info": {
   "codemirror_mode": {
    "name": "ipython",
    "version": 3
   },
   "file_extension": ".py",
   "mimetype": "text/x-python",
   "name": "python",
   "nbconvert_exporter": "python",
   "pygments_lexer": "ipython3",
   "version": "3.8.5"
  }
 },
 "nbformat": 4,
 "nbformat_minor": 4
}
