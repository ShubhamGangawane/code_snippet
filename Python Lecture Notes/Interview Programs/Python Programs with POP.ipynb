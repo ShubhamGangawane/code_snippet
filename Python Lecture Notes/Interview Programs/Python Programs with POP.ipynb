{
 "cells": [
  {
   "cell_type": "markdown",
   "metadata": {},
   "source": [
    "# 1.WAP to find the largest of  and numbers"
   ]
  },
  {
   "cell_type": "code",
   "execution_count": 1,
   "metadata": {},
   "outputs": [],
   "source": [
    "def largestoftwo(x=0,y=0):\n",
    "    if(x>y):\n",
    "        return f\"{x} is Greater then {y}\"\n",
    "    elif(y>x):\n",
    "        return f\"{y} is greater then {x}\"\n",
    "    else:\n",
    "        return f\"x is {x}, y is {y},\\nTherefore both are equal\"\n",
    "\n",
    "a = largestoftwo(3,4)\n",
    "print(f\"case1-: {a}\\n\")\n",
    "\n",
    "b= largestoftwo(8,3)\n",
    "print(f\"case2-: {b}\\n\")\n",
    "\n",
    "c=largestoftwo(2,2)\n",
    "print(f\"case3-: {c}\")"
   ]
  },
  {
   "cell_type": "markdown",
   "metadata": {},
   "source": [
    "# 2.WAP to find the largest of three numbers"
   ]
  },
  {
   "cell_type": "code",
   "execution_count": 2,
   "metadata": {},
   "outputs": [],
   "source": [
    "def largestofthree(x=0,y=0,z=0):\n",
    "    if((x>y)and(x>z)):\n",
    "        return f\"{x} is Greater then {y} & {z}\"\n",
    "    elif((y>x)and(y>z)):\n",
    "        return f\"{y} is greater then {x} & {z}\"\n",
    "    elif((z>x)and(z>y)):\n",
    "         return f\"{z} is greater then {x} & {y}\"\n",
    "    else:\n",
    "        return f\"x is {x}, y is {y}, z is {z}\\nTherefore all are equal\"\n",
    "\n",
    "a = largestofthree(3,4,8)\n",
    "print(f\"case1-: {a}\\n\")\n",
    "\n",
    "b= largestofthree(8,3,1)\n",
    "print(f\"case2-: {b}\\n\")\n",
    "\n",
    "c=largestofthree(1,9,2)\n",
    "print(f\"case3-: {c}\\n\")\n",
    "\n",
    "d=largestofthree(10,10,10)\n",
    "print(f\"case4-: {d}\")"
   ]
  },
  {
   "cell_type": "markdown",
   "metadata": {},
   "source": [
    "# 3.WAP to check for even or odd number"
   ]
  },
  {
   "cell_type": "code",
   "execution_count": 3,
   "metadata": {},
   "outputs": [],
   "source": [
    "def evenorodd(n=0):\n",
    "    if(n%2==0):\n",
    "        return f\"{n} is even number\"\n",
    "    else:\n",
    "        return f\"{n} is odd number\"\n",
    "\n",
    "a =evenorodd(80)\n",
    "print(f\"case1-: {a}\\n\")\n",
    "\n",
    "b=evenorodd(57)\n",
    "print(f\"case2-: {b}\")"
   ]
  },
  {
   "cell_type": "markdown",
   "metadata": {},
   "source": [
    "# 4.WAP to check for leap year"
   ]
  },
  {
   "cell_type": "code",
   "execution_count": 4,
   "metadata": {},
   "outputs": [
    {
     "name": "stdout",
     "output_type": "stream",
     "text": [
      "case1-: 2020 is a leap year\n",
      "\n",
      "case2-: 2021 is not a leap year\n"
     ]
    }
   ],
   "source": [
    "def leapyear(year=0):\n",
    "    if((year%400==0)or((year%4==0)and(year%100!=0))):\n",
    "        return f\"{year} is a leap year\"\n",
    "    else:\n",
    "        return f\"{year} is not a leap year\"\n",
    "    \n",
    "a=leapyear(2020)\n",
    "print(f\"case1-: {a}\\n\")\n",
    "\n",
    "b=leapyear(2021)\n",
    "print(f\"case2-: {b}\")"
   ]
  },
  {
   "cell_type": "markdown",
   "metadata": {},
   "source": [
    "# 5.WAP for Atm cash withdrawal."
   ]
  },
  {
   "cell_type": "code",
   "execution_count": 5,
   "metadata": {},
   "outputs": [
    {
     "name": "stdout",
     "output_type": "stream",
     "text": [
      "case1-: Insufficient balance\n",
      "\n",
      "case2-: Thank you for visiting.\n",
      "\n",
      "case3-: You cannot withdraw less then 100\n"
     ]
    }
   ],
   "source": [
    "def atmwithdrawl(amt=0):\n",
    "    acc_bal=10000\n",
    "    if(amt>acc_bal):\n",
    "        return f\"Insufficient balance\"\n",
    "    elif(100<=amt<=acc_bal):\n",
    "        return f\"Thank you for visiting.\"\n",
    "    elif(amt<100):\n",
    "        return f\"You cannot withdraw less then 100\"\n",
    "    else:\n",
    "        return f\"machine is running out of cash\"\n",
    "\n",
    "a=atmwithdrawl(25000)\n",
    "print(f\"case1-: {a}\\n\")\n",
    "\n",
    "b=atmwithdrawl(4500)\n",
    "print(f\"case2-: {b}\\n\")\n",
    "\n",
    "c=atmwithdrawl(50)\n",
    "print(f\"case3-: {c}\")"
   ]
  },
  {
   "cell_type": "markdown",
   "metadata": {},
   "source": [
    "# 6.WAP to print the grade with given marks"
   ]
  },
  {
   "cell_type": "code",
   "execution_count": 6,
   "metadata": {},
   "outputs": [
    {
     "name": "stdout",
     "output_type": "stream",
     "text": [
      "case1-:\n",
      "75 & above--> A Grade\n",
      "60-74-->B Grade\n",
      "35-59-->C Grade\n",
      "Below 35 -->Fail\n",
      "\n",
      "Marks is 83-: A Grade\n",
      "\n",
      "\n",
      "case2-:\n",
      "75 & above--> A Grade\n",
      "60-74-->B Grade\n",
      "35-59-->C Grade\n",
      "Below 35 -->Fail\n",
      "\n",
      "Marks is 67-: B Grade\n",
      "\n",
      "\n",
      "case3-:\n",
      "75 & above--> A Grade\n",
      "60-74-->B Grade\n",
      "35-59-->C Grade\n",
      "Below 35 -->Fail\n",
      "\n",
      "Marks is 83-: A Grade\n",
      "\n",
      "\n",
      "case4-:\n",
      "75 & above--> A Grade\n",
      "60-74-->B Grade\n",
      "35-59-->C Grade\n",
      "Below 35 -->Fail\n",
      "\n",
      "Marks is 20-: Fail\n",
      "\n",
      "\n"
     ]
    }
   ],
   "source": [
    "def markstograde(marks=0):\n",
    "    x =\"75 & above--> A Grade\\n60-74-->B Grade\\n35-59-->C Grade\\nBelow 35 -->Fail\"\n",
    "    if(marks>=75):\n",
    "        return f\"{x}\\n\\nMarks is {marks}-: A Grade\"\n",
    "    elif(60<=marks<=74):\n",
    "        return f\"{x}\\n\\nMarks is {marks}-: B Grade\"\n",
    "    elif(35<=marks<=59):\n",
    "        return f\"{x}\\n\\nMarks is {marks}-: C Grade\"\n",
    "    else:\n",
    "        return f\"{x}\\n\\nMarks is {marks}-: Fail\"\n",
    "\n",
    "a=markstograde(83)\n",
    "print(f\"case1-:\\n{a}\\n\\n\")\n",
    "\n",
    "b=markstograde(67)\n",
    "print(f\"case2-:\\n{b}\\n\\n\")\n",
    "\n",
    "c=markstograde(42)\n",
    "print(f\"case3-:\\n{a}\\n\\n\")\n",
    "\n",
    "d=markstograde(20)\n",
    "print(f\"case4-:\\n{d}\\n\\n\")\n",
    "\n"
   ]
  },
  {
   "cell_type": "markdown",
   "metadata": {},
   "source": [
    "# 7.WAP to swap two numbers"
   ]
  },
  {
   "cell_type": "code",
   "execution_count": 7,
   "metadata": {},
   "outputs": [
    {
     "name": "stdout",
     "output_type": "stream",
     "text": [
      "case1-:\n",
      "Before swaping-: x is 10, y is 8\n",
      "After swaping-: x is 8, y is 10\n",
      "\n",
      "case2-:\n",
      "Before swaping-: x is 70, y is 90\n",
      "After swaping-: x is 90, y is 70\n",
      "\n",
      "case3-:\n",
      "Before swaping-: x is 1, y is 2\n",
      "After swaping-: x is 2, y is 1\n",
      "\n"
     ]
    }
   ],
   "source": [
    "def swap(x=0,y=0):\n",
    "    z=f\"Before swaping-: x is {x}, y is {y}\"\n",
    "    tem=x\n",
    "    x=y\n",
    "    y=tem\n",
    "    return f\"{z}\\nAfter swaping-: x is {x}, y is {y}\"\n",
    "\n",
    "x=10\n",
    "y=8\n",
    "a=swap(x,y)\n",
    "print(f\"case1-:\\n{a}\\n\")\n",
    "\n",
    "x=70\n",
    "y=90\n",
    "b=swap(x,y)\n",
    "print(f\"case2-:\\n{b}\\n\")\n",
    "\n",
    "x=1\n",
    "y=2\n",
    "c=swap(x,y)\n",
    "print(f\"case3-:\\n{c}\\n\")"
   ]
  },
  {
   "cell_type": "code",
   "execution_count": 8,
   "metadata": {},
   "outputs": [
    {
     "name": "stdout",
     "output_type": "stream",
     "text": [
      "case1-:\n",
      "Before swaping-: x is 10, y is 8\n",
      "After swaping-: x is 8, y is 10\n",
      "\n",
      "case2-:\n",
      "Before swaping-: x is 70, y is 90\n",
      "After swaping-: x is 90, y is 70\n",
      "\n",
      "case3-:\n",
      "Before swaping-: x is 1, y is 2\n",
      "After swaping-: x is 2, y is 1\n",
      "\n"
     ]
    }
   ],
   "source": [
    "#with two variables\n",
    "def swap(x=0,y=0):\n",
    "    z=f\"Before swaping-: x is {x}, y is {y}\"\n",
    "    x=x+y\n",
    "    y=x-y\n",
    "    x=x-y\n",
    "    return f\"{z}\\nAfter swaping-: x is {x}, y is {y}\"\n",
    "\n",
    "x=10\n",
    "y=8\n",
    "a=swap(x,y)\n",
    "print(f\"case1-:\\n{a}\\n\")\n",
    "\n",
    "x=70\n",
    "y=90\n",
    "b=swap(x,y)\n",
    "print(f\"case2-:\\n{b}\\n\")\n",
    "\n",
    "x=1\n",
    "y=2\n",
    "c=swap(x,y)\n",
    "print(f\"case3-:\\n{c}\\n\")"
   ]
  },
  {
   "cell_type": "code",
   "execution_count": 9,
   "metadata": {},
   "outputs": [
    {
     "name": "stdout",
     "output_type": "stream",
     "text": [
      "case1-:\n",
      "Before swaping-: x is 10, y is 8\n",
      "After swaping-: x is 8, y is 10\n",
      "\n",
      "case2-:\n",
      "Before swaping-: x is 70, y is 90\n",
      "After swaping-: x is 90, y is 70\n",
      "\n",
      "case3-:\n",
      "Before swaping-: x is 1, y is 2\n",
      "After swaping-: x is 2, y is 1\n",
      "\n"
     ]
    }
   ],
   "source": [
    "#Python way of swaping two variables ;)\n",
    "def swap(x=0,y=0):\n",
    "    z=f\"Before swaping-: x is {x}, y is {y}\"\n",
    "    x,y=y,x\n",
    "    return f\"{z}\\nAfter swaping-: x is {x}, y is {y}\"\n",
    "\n",
    "x=10\n",
    "y=8\n",
    "a=swap(x,y)\n",
    "print(f\"case1-:\\n{a}\\n\")\n",
    "\n",
    "x=70\n",
    "y=90\n",
    "b=swap(x,y)\n",
    "print(f\"case2-:\\n{b}\\n\")\n",
    "\n",
    "x=1\n",
    "y=2\n",
    "c=swap(x,y)\n",
    "print(f\"case3-:\\n{c}\\n\")"
   ]
  },
  {
   "cell_type": "markdown",
   "metadata": {},
   "source": [
    "# 8.WAP to print the table of any number"
   ]
  },
  {
   "cell_type": "code",
   "execution_count": 10,
   "metadata": {},
   "outputs": [
    {
     "name": "stdout",
     "output_type": "stream",
     "text": [
      "case1-: Table of 2\n",
      "2 x 1 = 2\n",
      "2 x 2 = 4\n",
      "2 x 3 = 6\n",
      "2 x 4 = 8\n",
      "2 x 5 = 10\n",
      "2 x 6 = 12\n",
      "2 x 7 = 14\n",
      "2 x 8 = 16\n",
      "2 x 9 = 18\n",
      "2 x 10 = 20\n",
      "\n",
      "\n",
      "\n",
      "case1-: Table of -5\n",
      "-5 x 1 = -5\n",
      "-5 x 2 = -10\n",
      "-5 x 3 = -15\n",
      "-5 x 4 = -20\n",
      "-5 x 5 = -25\n",
      "-5 x 6 = -30\n",
      "-5 x 7 = -35\n",
      "-5 x 8 = -40\n",
      "-5 x 9 = -45\n",
      "-5 x 10 = -50\n",
      "\n",
      "\n",
      "\n"
     ]
    }
   ],
   "source": [
    "def tableof(no=0):\n",
    "    s=\"\"\n",
    "    for i in range(1,11):\n",
    "        a=f\"{no} x {i} = {no*i}\\n\"\n",
    "        s=s+a\n",
    "    return s\n",
    "\n",
    "a=tableof(2)\n",
    "print(f\"case1-: Table of {2}\\n{a}\\n\\n\")\n",
    "        \n",
    "a=tableof(-5)\n",
    "print(f\"case1-: Table of {-5}\\n{a}\\n\\n\")"
   ]
  },
  {
   "cell_type": "markdown",
   "metadata": {},
   "source": [
    "# 9.WAP to find the factorial of the number"
   ]
  },
  {
   "cell_type": "code",
   "execution_count": 11,
   "metadata": {},
   "outputs": [
    {
     "name": "stdout",
     "output_type": "stream",
     "text": [
      "case1-: Factorial of 5 is 120\n",
      "\n",
      "case2-: Factorial of 7 is 5040\n",
      "\n"
     ]
    }
   ],
   "source": [
    "def factorailof(no=0):\n",
    "    if(no==0):\n",
    "        return 1\n",
    "    elif(no==1):\n",
    "        return 1\n",
    "    elif(no>1):\n",
    "        fact =1\n",
    "        for i in range(1,no+1):\n",
    "            fact=fact*i\n",
    "        return fact\n",
    "    else:\n",
    "        return \"invalid input\"\n",
    "    \n",
    "a=factorailof(5)\n",
    "print(f\"case1-: Factorial of {5} is {a}\\n\")\n",
    "\n",
    "a=factorailof(7)\n",
    "print(f\"case2-: Factorial of {7} is {a}\\n\")\n"
   ]
  },
  {
   "cell_type": "markdown",
   "metadata": {},
   "source": [
    "# 10.WAP to print first n Fibonacci series "
   ]
  },
  {
   "cell_type": "code",
   "execution_count": 12,
   "metadata": {},
   "outputs": [
    {
     "name": "stdout",
     "output_type": "stream",
     "text": [
      "case1-: 0 1\n",
      "\n",
      "case2-: 0 1 1 2 3 5 8 13 21 34 \n",
      "\n"
     ]
    }
   ],
   "source": [
    "def fibonacci(no=0):\n",
    "    if(0<=no<=1):\n",
    "        return 0\n",
    "    elif(no==2):\n",
    "        return \"0 1\"\n",
    "    elif(no>=3):\n",
    "            x=0\n",
    "            y=1\n",
    "            s=f\"\"\n",
    "            for i in range(no):\n",
    "                s=s+f\"{x} \"\n",
    "                a=x+y\n",
    "                x=y\n",
    "                y=a\n",
    "                \n",
    "            return s\n",
    "    else:\n",
    "        return \"invalid input\"\n",
    "\n",
    "a=fibonacci(2)\n",
    "print(f\"case1-: {a}\\n\")\n",
    "\n",
    "b=fibonacci(10)\n",
    "print(f\"case2-: {b}\\n\")\n"
   ]
  },
  {
   "cell_type": "markdown",
   "metadata": {},
   "source": [
    "# 11.WAP to Check for perfect number."
   ]
  },
  {
   "cell_type": "code",
   "execution_count": 13,
   "metadata": {},
   "outputs": [
    {
     "name": "stdout",
     "output_type": "stream",
     "text": [
      "case1-: 28 is prefect number\n",
      "\n",
      "case1-: 14 not is prefect number\n",
      "\n"
     ]
    }
   ],
   "source": [
    "def perfect(no=0):\n",
    "    tot=0\n",
    "    for i in range(1,no):\n",
    "        if(no%i==0):\n",
    "            tot=tot+i\n",
    "    if(tot==no):\n",
    "        return f\"{no} is prefect number\"\n",
    "    else:\n",
    "        return f\"{no} not is prefect number\"\n",
    "\n",
    "a=perfect(28)\n",
    "print(f\"case1-: {a}\\n\")\n",
    "\n",
    "b=perfect(14)\n",
    "print(f\"case1-: {b}\\n\")"
   ]
  },
  {
   "cell_type": "markdown",
   "metadata": {},
   "source": [
    "# 12.WAP to check for Prime number"
   ]
  },
  {
   "cell_type": "code",
   "execution_count": 14,
   "metadata": {},
   "outputs": [
    {
     "name": "stdout",
     "output_type": "stream",
     "text": [
      "case1-: 7 is prime number\n",
      "\n",
      "case2-: 1 is nor prime, nigther composite\n",
      "\n",
      "case3-: 10 is composite number\n",
      "\n"
     ]
    }
   ],
   "source": [
    "def prime(no=1):\n",
    "    if(no==1):\n",
    "        return f\"{no} is nor prime, nigther composite\"\n",
    "    \n",
    "    elif(no>=2):\n",
    "        count=0\n",
    "        for i in range(2,no):\n",
    "            if(no%i==0):\n",
    "                count=count+1\n",
    "                break\n",
    "        if(count==0):\n",
    "            return f\"{no} is prime number\"\n",
    "        else:\n",
    "            return f\"{no} is composite number\"\n",
    "        \n",
    "    else:\n",
    "        return \"invalid input\"\n",
    "\n",
    "a=prime(7)\n",
    "print(f\"case1-: {a}\\n\")\n",
    "\n",
    "b=prime(1)\n",
    "print(f\"case2-: {b}\\n\")\n",
    "\n",
    "c=prime(10)\n",
    "print(f\"case3-: {c}\\n\")"
   ]
  },
  {
   "cell_type": "markdown",
   "metadata": {},
   "source": [
    "# 13.WAP for Sieve of Eratothanese"
   ]
  },
  {
   "cell_type": "code",
   "execution_count": 15,
   "metadata": {},
   "outputs": [
    {
     "name": "stdout",
     "output_type": "stream",
     "text": [
      "case1-: 2 3 5 7 11 13 17 19 23 29 31 37 41 43 47 \n",
      "\n",
      "case2-: 1 is nor prime, nigther composite\n",
      "\n"
     ]
    }
   ],
   "source": [
    "def sieveoferatothanese(no=1):\n",
    "    if(no==1):\n",
    "        return f\"{no} is nor prime, nigther composite\"\n",
    "    elif(no>=2):\n",
    "        s=\"\"\n",
    "        for i in range(2,no+1):\n",
    "            count=0\n",
    "            n=i\n",
    "            for i in range(2,n):\n",
    "                if(n%i==0):\n",
    "                    count=count+1\n",
    "                    break\n",
    "            if(count==0):\n",
    "                s=s+f\"{n} \"\n",
    "        return s\n",
    "    else:\n",
    "        return \"invalid input\"\n",
    "\n",
    "a=sieveoferatothanese(50)\n",
    "print(f\"case1-: {a}\\n\")\n",
    "\n",
    "b=sieveoferatothanese(1)\n",
    "print(f\"case2-: {b}\\n\")\n"
   ]
  },
  {
   "cell_type": "markdown",
   "metadata": {},
   "source": [
    "# 14.WAP to Reverse a number"
   ]
  },
  {
   "cell_type": "code",
   "execution_count": 16,
   "metadata": {},
   "outputs": [
    {
     "name": "stdout",
     "output_type": "stream",
     "text": [
      "case1-: 4321\n",
      "\n",
      "case2-: 98765\n",
      "\n"
     ]
    }
   ],
   "source": [
    "def reverse(no=0):\n",
    "    rem=0\n",
    "    rev=0\n",
    "    while(no!=0):\n",
    "        rem=no%10\n",
    "        rev=(rev*10)+rem\n",
    "        no=no//10\n",
    "    return rev\n",
    "\n",
    "a=reverse(1234)\n",
    "print(f\"case1-: {a}\\n\")\n",
    "\n",
    "b= reverse(56789)\n",
    "print(f\"case2-: {b}\\n\")"
   ]
  },
  {
   "cell_type": "markdown",
   "metadata": {},
   "source": [
    "# 15.WAP to Reverse a String"
   ]
  },
  {
   "cell_type": "code",
   "execution_count": 17,
   "metadata": {},
   "outputs": [
    {
     "name": "stdout",
     "output_type": "stream",
     "text": [
      "reverse of 'this is a string' is-: gnirts a si siht\n"
     ]
    }
   ],
   "source": [
    "def reverse(string=\"sample example\"):\n",
    "    s=\"\"\n",
    "    for i in range(len(string)-1,-1,-1):\n",
    "        s=s+string[i]\n",
    "    return s\n",
    "\n",
    "a =reverse(\"this is a string\")\n",
    "print(f\"reverse of 'this is a string' is-: {a}\")\n"
   ]
  },
  {
   "cell_type": "markdown",
   "metadata": {},
   "source": [
    "# 16.WAP to check for Palindrome number"
   ]
  },
  {
   "cell_type": "code",
   "execution_count": 18,
   "metadata": {},
   "outputs": [
    {
     "name": "stdout",
     "output_type": "stream",
     "text": [
      "case1-: 1234 is not a Palindrome number\n",
      "\n",
      "case2-: 414 is a Palindrome number\n",
      "\n"
     ]
    }
   ],
   "source": [
    "def reverse(no=0):\n",
    "    rem=0\n",
    "    rev=0\n",
    "    n1=no\n",
    "    while(no!=0):\n",
    "        rem=no%10\n",
    "        rev=(rev*10)+rem\n",
    "        no=no//10\n",
    "    if(n1==rev):\n",
    "        return f\"{n1} is a Palindrome number\"\n",
    "    else:\n",
    "        return f\"{n1} is not a Palindrome number\"\n",
    "\n",
    "a=reverse(1234)\n",
    "print(f\"case1-: {a}\\n\")\n",
    "\n",
    "b= reverse(414)\n",
    "print(f\"case2-: {b}\\n\")\n",
    "\n"
   ]
  },
  {
   "cell_type": "markdown",
   "metadata": {},
   "source": [
    "# 17.WAP to check for Neon number."
   ]
  },
  {
   "cell_type": "code",
   "execution_count": 19,
   "metadata": {},
   "outputs": [
    {
     "name": "stdout",
     "output_type": "stream",
     "text": [
      "case1-: 9 is a Neon number\n",
      "\n",
      "case2-: 414 is not a Neon number\n",
      "\n"
     ]
    }
   ],
   "source": [
    "def neon(no=0):\n",
    "    sq=no**2\n",
    "    rem=0\n",
    "    tot=0\n",
    "    while(sq!=0):\n",
    "        rem=sq%10\n",
    "        tot=tot+rem\n",
    "        sq=sq//10\n",
    "    if(no==tot):\n",
    "        return f\"{no} is a Neon number\"\n",
    "    else:\n",
    "        return f\"{no} is not a Neon number\"\n",
    "\n",
    "a=neon(9)\n",
    "print(f\"case1-: {a}\\n\")\n",
    "\n",
    "b= neon(414)\n",
    "print(f\"case2-: {b}\\n\")\n",
    "\n"
   ]
  },
  {
   "cell_type": "markdown",
   "metadata": {},
   "source": [
    "# 18.WAP to check for Armstrong number."
   ]
  },
  {
   "cell_type": "code",
   "execution_count": 20,
   "metadata": {},
   "outputs": [
    {
     "name": "stdout",
     "output_type": "stream",
     "text": [
      "case1-: 153 is a Armstrong number\n",
      "\n",
      "case2-: 48 is not a Armstrong number\n",
      "\n"
     ]
    }
   ],
   "source": [
    "def armstrong(no=0):\n",
    "    rem=0\n",
    "    n1=no\n",
    "    n2=no\n",
    "    tot=0\n",
    "    length=0\n",
    "    \n",
    "    while(no!=0):\n",
    "        no=no//10\n",
    "        length=length+1\n",
    "        \n",
    "    while(n1!=0):\n",
    "        rem=n1%10\n",
    "        \n",
    "        pw=1\n",
    "        for i in range(length):       \n",
    "            pw=pw*rem\n",
    "            \n",
    "        tot=tot+pw\n",
    "        n1=n1//10\n",
    "        \n",
    "    if(n2==tot):\n",
    "        return f\"{n2} is a Armstrong number\"\n",
    "    else:\n",
    "        return f\"{n2} is not a Armstrong number\"\n",
    "\n",
    "a=armstrong(153)\n",
    "print(f\"case1-: {a}\\n\")\n",
    "\n",
    "b= armstrong(48)\n",
    "print(f\"case2-: {b}\\n\")\n"
   ]
  },
  {
   "cell_type": "markdown",
   "metadata": {},
   "source": [
    "# 19.WAP to check for Strong number."
   ]
  },
  {
   "cell_type": "code",
   "execution_count": 21,
   "metadata": {},
   "outputs": [
    {
     "name": "stdout",
     "output_type": "stream",
     "text": [
      "case1-: 62 is not a Strong number\n",
      "\n",
      "case2-: 145 is a Strong number\n",
      "\n"
     ]
    }
   ],
   "source": [
    "def strong(no=0):\n",
    "    rem=0\n",
    "    n1=no\n",
    "    tot=0\n",
    "    length=0\n",
    "\n",
    "    while(no!=0):\n",
    "        rem=no%10\n",
    "        \n",
    "        fact=1\n",
    "        for i in range(1,rem+1):\n",
    "            fact=fact*i\n",
    "            \n",
    "        tot=tot+fact\n",
    "        no=no//10\n",
    "        \n",
    "    if(n1==tot):\n",
    "        return f\"{n1} is a Strong number\"\n",
    "    else:\n",
    "        return f\"{n1} is not a Strong number\"\n",
    "\n",
    "a=strong(62)\n",
    "print(f\"case1-: {a}\\n\")\n",
    "\n",
    "b= strong(145)\n",
    "print(f\"case2-: {b}\\n\")\n"
   ]
  },
  {
   "cell_type": "markdown",
   "metadata": {},
   "source": [
    "# 20.WAP to print A-Z"
   ]
  },
  {
   "cell_type": "code",
   "execution_count": 22,
   "metadata": {},
   "outputs": [
    {
     "name": "stdout",
     "output_type": "stream",
     "text": [
      "Case 1-: A  B  C  D  E  F  G  H  I  J  K  L  M  N  O  P  Q  R  S  T  U  V  W  X  Y  Z  \n",
      "Case 2-: a  b  c  d  e  f  g  h  i  j  k  l  m  n  o  p  q  r  s  t  u  v  w  x  y  z  \n",
      "Case 3-: invalid case\n"
     ]
    }
   ],
   "source": [
    "def atoz(case):\n",
    "    s=\"\"\n",
    "    for i in range(26):\n",
    "        if(case=='upper'):\n",
    "            s = s + f\"{chr(65+i)}  \"\n",
    "        elif(case=='lower'):\n",
    "            s = s + f\"{chr(97+i)}  \"\n",
    "        else:\n",
    "            s = \"invalid case\"\n",
    "            break\n",
    "    return s\n",
    "\n",
    "\n",
    "a = atoz('upper')\n",
    "print(f\"Case 1-: {a}\")\n",
    "\n",
    "b = atoz('lower')\n",
    "print(f\"Case 2-: {b}\")\n",
    "\n",
    "c = atoz('title')\n",
    "print(f\"Case 3-: {c}\")"
   ]
  },
  {
   "cell_type": "markdown",
   "metadata": {},
   "source": [
    "# 21.WAP to Print 1-10 without using any numeric datatype"
   ]
  },
  {
   "cell_type": "code",
   "execution_count": 23,
   "metadata": {},
   "outputs": [
    {
     "name": "stdout",
     "output_type": "stream",
     "text": [
      "1 2 3 4 5 6 7 8 9 10 \n"
     ]
    }
   ],
   "source": [
    "def func():\n",
    "    start = ord('a')//ord('a')\n",
    "    end= ord('L')-ord('A')\n",
    "    s=\"\"\n",
    "    for i in range(start,end):\n",
    "        s=s + f\"{i} \"\n",
    "    return s\n",
    "\n",
    "a= func()\n",
    "print(a)\n",
    "    "
   ]
  }
 ],
 "metadata": {
  "kernelspec": {
   "display_name": "Python 3",
   "language": "python",
   "name": "python3"
  },
  "language_info": {
   "codemirror_mode": {
    "name": "ipython",
    "version": 3
   },
   "file_extension": ".py",
   "mimetype": "text/x-python",
   "name": "python",
   "nbconvert_exporter": "python",
   "pygments_lexer": "ipython3",
   "version": "3.8.5"
  }
 },
 "nbformat": 4,
 "nbformat_minor": 4
}
